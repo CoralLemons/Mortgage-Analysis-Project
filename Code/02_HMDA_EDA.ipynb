{
 "cells": [
  {
   "cell_type": "markdown",
   "metadata": {},
   "source": []
  },
  {
   "cell_type": "markdown",
   "metadata": {},
   "source": [
    "# EDA HMDA"
   ]
  },
  {
   "cell_type": "code",
   "execution_count": 1,
   "metadata": {},
   "outputs": [],
   "source": [
    "import pandas as pd\n",
    "import seaborn as sns\n",
    "import matplotlib.pyplot as plt"
   ]
  },
  {
   "cell_type": "code",
   "execution_count": 2,
   "metadata": {},
   "outputs": [
    {
     "name": "stderr",
     "output_type": "stream",
     "text": [
      "C:\\Users\\Forcessofnature\\AppData\\Local\\Temp\\ipykernel_30252\\1978745115.py:1: DtypeWarning: Columns (22,23,24,26,27,28,29,30,31,32,33,38,43,44,46,77,78,79,80) have mixed types. Specify dtype option on import or set low_memory=False.\n",
      "  df_db = pd.read_csv(\"https://www.dropbox.com/scl/fi/0yl5e0uwhh2mypl2htt7h/01_2022_HMDA_Filter.csv?rlkey=1z1qtm6h2h8rr1ubauk943la5&dl=1\")\n"
     ]
    }
   ],
   "source": [
    "df_db = pd.read_csv(\"https://www.dropbox.com/scl/fi/0yl5e0uwhh2mypl2htt7h/01_2022_HMDA_Filter.csv?rlkey=1z1qtm6h2h8rr1ubauk943la5&dl=1\")"
   ]
  },
  {
   "cell_type": "code",
   "execution_count": 3,
   "metadata": {},
   "outputs": [
    {
     "data": {
      "text/html": [
       "<div>\n",
       "<style scoped>\n",
       "    .dataframe tbody tr th:only-of-type {\n",
       "        vertical-align: middle;\n",
       "    }\n",
       "\n",
       "    .dataframe tbody tr th {\n",
       "        vertical-align: top;\n",
       "    }\n",
       "\n",
       "    .dataframe thead th {\n",
       "        text-align: right;\n",
       "    }\n",
       "</style>\n",
       "<table border=\"1\" class=\"dataframe\">\n",
       "  <thead>\n",
       "    <tr style=\"text-align: right;\">\n",
       "      <th></th>\n",
       "      <th>activity_year</th>\n",
       "      <th>lei</th>\n",
       "      <th>derived_msa_md</th>\n",
       "      <th>state_code</th>\n",
       "      <th>county_code</th>\n",
       "      <th>census_tract</th>\n",
       "      <th>conforming_loan_limit</th>\n",
       "      <th>derived_loan_product_type</th>\n",
       "      <th>derived_dwelling_category</th>\n",
       "      <th>derived_ethnicity</th>\n",
       "      <th>...</th>\n",
       "      <th>denial_reason_2</th>\n",
       "      <th>denial_reason_3</th>\n",
       "      <th>denial_reason_4</th>\n",
       "      <th>tract_population</th>\n",
       "      <th>tract_minority_population_percent</th>\n",
       "      <th>ffiec_msa_md_median_family_income</th>\n",
       "      <th>tract_to_msa_income_percentage</th>\n",
       "      <th>tract_owner_occupied_units</th>\n",
       "      <th>tract_one_to_four_family_homes</th>\n",
       "      <th>tract_median_age_of_housing_units</th>\n",
       "    </tr>\n",
       "  </thead>\n",
       "  <tbody>\n",
       "    <tr>\n",
       "      <th>0</th>\n",
       "      <td>2022</td>\n",
       "      <td>549300HMP6CQXPB0L958</td>\n",
       "      <td>18580</td>\n",
       "      <td>TX</td>\n",
       "      <td>48355.0</td>\n",
       "      <td>4.835501e+10</td>\n",
       "      <td>C</td>\n",
       "      <td>Conventional:First Lien</td>\n",
       "      <td>Single Family (1-4 Units):Site-Built</td>\n",
       "      <td>Not Hispanic or Latino</td>\n",
       "      <td>...</td>\n",
       "      <td>NaN</td>\n",
       "      <td>NaN</td>\n",
       "      <td>NaN</td>\n",
       "      <td>3217</td>\n",
       "      <td>75.47</td>\n",
       "      <td>80900</td>\n",
       "      <td>71.0</td>\n",
       "      <td>998</td>\n",
       "      <td>1416</td>\n",
       "      <td>51</td>\n",
       "    </tr>\n",
       "    <tr>\n",
       "      <th>1</th>\n",
       "      <td>2022</td>\n",
       "      <td>549300HMP6CQXPB0L958</td>\n",
       "      <td>18580</td>\n",
       "      <td>TX</td>\n",
       "      <td>48355.0</td>\n",
       "      <td>4.835500e+10</td>\n",
       "      <td>C</td>\n",
       "      <td>Conventional:First Lien</td>\n",
       "      <td>Single Family (1-4 Units):Site-Built</td>\n",
       "      <td>Hispanic or Latino</td>\n",
       "      <td>...</td>\n",
       "      <td>NaN</td>\n",
       "      <td>NaN</td>\n",
       "      <td>NaN</td>\n",
       "      <td>4302</td>\n",
       "      <td>74.15</td>\n",
       "      <td>80900</td>\n",
       "      <td>91.0</td>\n",
       "      <td>560</td>\n",
       "      <td>1135</td>\n",
       "      <td>38</td>\n",
       "    </tr>\n",
       "    <tr>\n",
       "      <th>2</th>\n",
       "      <td>2022</td>\n",
       "      <td>549300HMP6CQXPB0L958</td>\n",
       "      <td>18580</td>\n",
       "      <td>TX</td>\n",
       "      <td>48355.0</td>\n",
       "      <td>4.835500e+10</td>\n",
       "      <td>C</td>\n",
       "      <td>Conventional:First Lien</td>\n",
       "      <td>Single Family (1-4 Units):Site-Built</td>\n",
       "      <td>Hispanic or Latino</td>\n",
       "      <td>...</td>\n",
       "      <td>NaN</td>\n",
       "      <td>NaN</td>\n",
       "      <td>NaN</td>\n",
       "      <td>2197</td>\n",
       "      <td>93.90</td>\n",
       "      <td>80900</td>\n",
       "      <td>105.0</td>\n",
       "      <td>550</td>\n",
       "      <td>740</td>\n",
       "      <td>35</td>\n",
       "    </tr>\n",
       "    <tr>\n",
       "      <th>3</th>\n",
       "      <td>2022</td>\n",
       "      <td>549300HMP6CQXPB0L958</td>\n",
       "      <td>18580</td>\n",
       "      <td>TX</td>\n",
       "      <td>48355.0</td>\n",
       "      <td>4.835500e+10</td>\n",
       "      <td>C</td>\n",
       "      <td>Conventional:First Lien</td>\n",
       "      <td>Single Family (1-4 Units):Site-Built</td>\n",
       "      <td>Hispanic or Latino</td>\n",
       "      <td>...</td>\n",
       "      <td>NaN</td>\n",
       "      <td>NaN</td>\n",
       "      <td>NaN</td>\n",
       "      <td>4448</td>\n",
       "      <td>48.70</td>\n",
       "      <td>80900</td>\n",
       "      <td>133.0</td>\n",
       "      <td>1049</td>\n",
       "      <td>1588</td>\n",
       "      <td>62</td>\n",
       "    </tr>\n",
       "    <tr>\n",
       "      <th>4</th>\n",
       "      <td>2022</td>\n",
       "      <td>549300HMP6CQXPB0L958</td>\n",
       "      <td>18580</td>\n",
       "      <td>TX</td>\n",
       "      <td>48355.0</td>\n",
       "      <td>4.835500e+10</td>\n",
       "      <td>C</td>\n",
       "      <td>Conventional:First Lien</td>\n",
       "      <td>Single Family (1-4 Units):Site-Built</td>\n",
       "      <td>Hispanic or Latino</td>\n",
       "      <td>...</td>\n",
       "      <td>NaN</td>\n",
       "      <td>NaN</td>\n",
       "      <td>NaN</td>\n",
       "      <td>4083</td>\n",
       "      <td>85.43</td>\n",
       "      <td>80900</td>\n",
       "      <td>82.0</td>\n",
       "      <td>900</td>\n",
       "      <td>1375</td>\n",
       "      <td>64</td>\n",
       "    </tr>\n",
       "  </tbody>\n",
       "</table>\n",
       "<p>5 rows × 99 columns</p>\n",
       "</div>"
      ],
      "text/plain": [
       "   activity_year                   lei  derived_msa_md state_code  \\\n",
       "0           2022  549300HMP6CQXPB0L958           18580         TX   \n",
       "1           2022  549300HMP6CQXPB0L958           18580         TX   \n",
       "2           2022  549300HMP6CQXPB0L958           18580         TX   \n",
       "3           2022  549300HMP6CQXPB0L958           18580         TX   \n",
       "4           2022  549300HMP6CQXPB0L958           18580         TX   \n",
       "\n",
       "   county_code  census_tract conforming_loan_limit derived_loan_product_type  \\\n",
       "0      48355.0  4.835501e+10                     C   Conventional:First Lien   \n",
       "1      48355.0  4.835500e+10                     C   Conventional:First Lien   \n",
       "2      48355.0  4.835500e+10                     C   Conventional:First Lien   \n",
       "3      48355.0  4.835500e+10                     C   Conventional:First Lien   \n",
       "4      48355.0  4.835500e+10                     C   Conventional:First Lien   \n",
       "\n",
       "              derived_dwelling_category       derived_ethnicity  ...  \\\n",
       "0  Single Family (1-4 Units):Site-Built  Not Hispanic or Latino  ...   \n",
       "1  Single Family (1-4 Units):Site-Built      Hispanic or Latino  ...   \n",
       "2  Single Family (1-4 Units):Site-Built      Hispanic or Latino  ...   \n",
       "3  Single Family (1-4 Units):Site-Built      Hispanic or Latino  ...   \n",
       "4  Single Family (1-4 Units):Site-Built      Hispanic or Latino  ...   \n",
       "\n",
       "  denial_reason_2 denial_reason_3  denial_reason_4  tract_population  \\\n",
       "0             NaN             NaN              NaN              3217   \n",
       "1             NaN             NaN              NaN              4302   \n",
       "2             NaN             NaN              NaN              2197   \n",
       "3             NaN             NaN              NaN              4448   \n",
       "4             NaN             NaN              NaN              4083   \n",
       "\n",
       "   tract_minority_population_percent  ffiec_msa_md_median_family_income  \\\n",
       "0                              75.47                              80900   \n",
       "1                              74.15                              80900   \n",
       "2                              93.90                              80900   \n",
       "3                              48.70                              80900   \n",
       "4                              85.43                              80900   \n",
       "\n",
       "   tract_to_msa_income_percentage  tract_owner_occupied_units  \\\n",
       "0                            71.0                         998   \n",
       "1                            91.0                         560   \n",
       "2                           105.0                         550   \n",
       "3                           133.0                        1049   \n",
       "4                            82.0                         900   \n",
       "\n",
       "   tract_one_to_four_family_homes  tract_median_age_of_housing_units  \n",
       "0                            1416                                 51  \n",
       "1                            1135                                 38  \n",
       "2                             740                                 35  \n",
       "3                            1588                                 62  \n",
       "4                            1375                                 64  \n",
       "\n",
       "[5 rows x 99 columns]"
      ]
     },
     "execution_count": 3,
     "metadata": {},
     "output_type": "execute_result"
    }
   ],
   "source": [
    "df_db.head()"
   ]
  },
  {
   "cell_type": "markdown",
   "metadata": {},
   "source": [
    "## Breakdown of applications within each state"
   ]
  },
  {
   "cell_type": "code",
   "execution_count": 4,
   "metadata": {},
   "outputs": [],
   "source": [
    "df_state_count = df_db.state_code.value_counts(dropna=False).to_frame().reset_index()\n",
    "\n",
    "# scale the count to 1M\n",
    "df_state_count['count'] = df_state_count['count'].astype('int') / 1000000"
   ]
  },
  {
   "cell_type": "code",
   "execution_count": 5,
   "metadata": {},
   "outputs": [
    {
     "data": {
      "text/plain": [
       "[Text(0.5, 0, 'States'),\n",
       " Text(0, 0.5, 'Applications in Millions'),\n",
       " Text(0.5, 1.0, 'State Application in Millions')]"
      ]
     },
     "execution_count": 5,
     "metadata": {},
     "output_type": "execute_result"
    },
    {
     "data": {
      "image/png": "[encoded data removed]",
      "text/plain": [
       "<Figure size 640x480 with 1 Axes>"
      ]
     },
     "metadata": {},
     "output_type": "display_data"
    }
   ],
   "source": [
    "fig  = sns.barplot(df_state_count, x=\"state_code\", y=\"count\", color = '#143F62')\n",
    "fig.set(xlabel =\"States\", ylabel = \"Applications in Millions\", title ='State Application in Millions')"
   ]
  },
  {
   "cell_type": "markdown",
   "metadata": {},
   "source": [
    "### Dependent Variable of Interest"
   ]
  },
  {
   "cell_type": "code",
   "execution_count": 13,
   "metadata": {},
   "outputs": [
    {
     "data": {
      "text/plain": [
       "action_taken\n",
       "1    1183677\n",
       "3     373293\n",
       "4     334697\n",
       "6     264196\n",
       "5     116468\n",
       "2      64596\n",
       "8       7992\n",
       "7       3373\n",
       "Name: count, dtype: int64"
      ]
     },
     "execution_count": 13,
     "metadata": {},
     "output_type": "execute_result"
    }
   ],
   "source": [
    "# Values:\n",
    "\n",
    "#     1 - Loan originated\n",
    "#     2 - Application approved but not accepted\n",
    "#     3 - Application denied\n",
    "#     4 - Application withdrawn by applicant\n",
    "#     5 - File closed for incompleteness\n",
    "#     6 - Purchased loan\n",
    "#     7 - Preapproval request denied\n",
    "#     8 - Preapproval request approved but not accepted\n",
    "\n",
    "\n",
    "df_db.action_taken.value_counts(dropna=False)"
   ]
  },
  {
   "cell_type": "markdown",
   "metadata": {},
   "source": [
    "### Independent Variables of Interest"
   ]
  },
  {
   "cell_type": "code",
   "execution_count": 6,
   "metadata": {},
   "outputs": [
    {
     "data": {
      "text/plain": [
       "derived_sex\n",
       "Joint                748736\n",
       "Male                 726536\n",
       "Female               445635\n",
       "Sex Not Available    427385\n",
       "Name: count, dtype: int64"
      ]
     },
     "execution_count": 6,
     "metadata": {},
     "output_type": "execute_result"
    }
   ],
   "source": [
    "df_db.derived_sex.value_counts(dropna=False)"
   ]
  },
  {
   "cell_type": "code",
   "execution_count": 7,
   "metadata": {},
   "outputs": [
    {
     "data": {
      "text/plain": [
       "derived_loan_product_type\n",
       "Conventional:First Lien          1597881\n",
       "Conventional:Subordinate Lien     326682\n",
       "FHA:First Lien                    265359\n",
       "VA:First Lien                     152620\n",
       "FSA/RHS:First Lien                  5031\n",
       "FSA/RHS:Subordinate Lien             534\n",
       "FHA:Subordinate Lien                 171\n",
       "VA:Subordinate Lien                   14\n",
       "Name: count, dtype: int64"
      ]
     },
     "execution_count": 7,
     "metadata": {},
     "output_type": "execute_result"
    }
   ],
   "source": [
    "df_db.derived_loan_product_type.value_counts(dropna=False)\n",
    "\n"
   ]
  },
  {
   "cell_type": "code",
   "execution_count": 8,
   "metadata": {},
   "outputs": [
    {
     "data": {
      "text/plain": [
       "derived_race\n",
       "White                                        1269053\n",
       "Race Not Available                            641174\n",
       "Asian                                         201288\n",
       "Black or African American                     158279\n",
       "Joint                                          52654\n",
       "American Indian or Alaska Native               14797\n",
       "Native Hawaiian or Other Pacific Islander       5373\n",
       "2 or more minority races                        5099\n",
       "Free Form Text Only                              575\n",
       "Name: count, dtype: int64"
      ]
     },
     "execution_count": 8,
     "metadata": {},
     "output_type": "execute_result"
    }
   ],
   "source": [
    "df_db.derived_race.value_counts(dropna=False)"
   ]
  },
  {
   "cell_type": "code",
   "execution_count": 9,
   "metadata": {},
   "outputs": [
    {
     "data": {
      "text/plain": [
       "derived_ethnicity\n",
       "Not Hispanic or Latino     1342574\n",
       "Ethnicity Not Available     588776\n",
       "Hispanic or Latino          346347\n",
       "Joint                        69470\n",
       "Free Form Text Only           1125\n",
       "Name: count, dtype: int64"
      ]
     },
     "execution_count": 9,
     "metadata": {},
     "output_type": "execute_result"
    }
   ],
   "source": [
    "df_db.derived_ethnicity.value_counts(dropna=False)"
   ]
  },
  {
   "cell_type": "code",
   "execution_count": 10,
   "metadata": {},
   "outputs": [
    {
     "data": {
      "text/plain": [
       "preapproval\n",
       "2    2291335\n",
       "1      56957\n",
       "Name: count, dtype: int64"
      ]
     },
     "execution_count": 10,
     "metadata": {},
     "output_type": "execute_result"
    }
   ],
   "source": [
    "# Values:\n",
    "\n",
    "#     1 - Preapproval requested\n",
    "#     2 - Preapproval not requested\n",
    "\n",
    "df_db.preapproval.value_counts(dropna=False)"
   ]
  },
  {
   "cell_type": "code",
   "execution_count": 11,
   "metadata": {},
   "outputs": [
    {
     "data": {
      "text/plain": [
       "loan_purpose\n",
       "1     1296754\n",
       "32     410023\n",
       "31     283227\n",
       "2      186532\n",
       "4      158464\n",
       "5       13292\n",
       "Name: count, dtype: int64"
      ]
     },
     "execution_count": 11,
     "metadata": {},
     "output_type": "execute_result"
    }
   ],
   "source": [
    "# Values:\n",
    "\n",
    "#     1 - Home purchase\n",
    "#     2 - Home improvement\n",
    "#     31 - Refinancing\n",
    "#     32 - Cash-out refinancing\n",
    "#     4 - Other purpose\n",
    "#     5 - Not applicable\n",
    "\n",
    "\n",
    "df_db.loan_purpose.value_counts(dropna=False)"
   ]
  },
  {
   "cell_type": "code",
   "execution_count": 12,
   "metadata": {},
   "outputs": [
    {
     "data": {
      "image/png": "[encoded data removed]",
      "text/plain": [
       "<Figure size 640x480 with 1 Axes>"
      ]
     },
     "metadata": {},
     "output_type": "display_data"
    }
   ],
   "source": [
    "# Create a histogram using Seaborn\n",
    "sns.histplot(df_db[df_db.loc[:,'loan_amount']<2000000].loan_amount,color = '#143F62', bins= 50)  # kde=False disables the kernel density estimation\n",
    "plt.xlabel('Values')\n",
    "plt.ylabel('Frequency')\n",
    "plt.title('Histogram Chart Distribution')\n",
    "plt.show()"
   ]
  },
  {
   "cell_type": "code",
   "execution_count": 19,
   "metadata": {},
   "outputs": [
    {
     "data": {
      "text/plain": [
       "interest_rate\n",
       "NaN       827781\n",
       "Exempt     39926\n",
       "4.75       27473\n",
       "3.75       27014\n",
       "3.25       25391\n",
       "5.5        24157\n",
       "5.25       23853\n",
       "3.875      23687\n",
       "5.625      23290\n",
       "4.25       23195\n",
       "5.25       22941\n",
       "3.75       22364\n",
       "4.5        22302\n",
       "4.75       22277\n",
       "4.875      21861\n",
       "4.25       21517\n",
       "5.5        21192\n",
       "3.25       21149\n",
       "3.875      20524\n",
       "5.125      19655\n",
       "3.5        19583\n",
       "5.625      19181\n",
       "4.5        19128\n",
       "3.375      19110\n",
       "5.75       18755\n",
       "Name: count, dtype: int64"
      ]
     },
     "execution_count": 19,
     "metadata": {},
     "output_type": "execute_result"
    }
   ],
   "source": [
    "df_db.interest_rate.value_counts(dropna=False).head(25)"
   ]
  },
  {
   "cell_type": "code",
   "execution_count": 22,
   "metadata": {},
   "outputs": [
    {
     "data": {
      "text/plain": [
       "loan_term\n",
       "360       918502\n",
       "360       530588\n",
       "360.0     220666\n",
       "180        92762\n",
       "300        77630\n",
       "180        59318\n",
       "240        53095\n",
       "240        49177\n",
       "300        43509\n",
       "NaN        40636\n",
       "Exempt     39685\n",
       "120        23668\n",
       "180.0      23216\n",
       "120        19849\n",
       "480.0      15713\n",
       "240.0      11853\n",
       "36.0       11772\n",
       "276        10125\n",
       "300.0       7876\n",
       "120.0       7034\n",
       "276         5621\n",
       "60          5242\n",
       "12          5003\n",
       "372.0       4564\n",
       "60.0        3860\n",
       "Name: count, dtype: int64"
      ]
     },
     "execution_count": 22,
     "metadata": {},
     "output_type": "execute_result"
    }
   ],
   "source": [
    "df_db.loan_term.value_counts(dropna=False).head(25)"
   ]
  },
  {
   "cell_type": "code",
   "execution_count": 26,
   "metadata": {},
   "outputs": [
    {
     "data": {
      "text/plain": [
       "applicant_age\n",
       "35-44    574687\n",
       "25-34    455987\n",
       "45-54    452565\n",
       "55-64    315848\n",
       "8888     224157\n",
       "65-74    166034\n",
       ">74       59607\n",
       "<25       58447\n",
       "8888      40960\n",
       "Name: count, dtype: int64"
      ]
     },
     "execution_count": 26,
     "metadata": {},
     "output_type": "execute_result"
    }
   ],
   "source": [
    "df_db.applicant_age.value_counts(dropna=False).head(25)"
   ]
  },
  {
   "cell_type": "code",
   "execution_count": 34,
   "metadata": {},
   "outputs": [
    {
     "data": {
      "image/png": "[encoded data removed]",
      "text/plain": [
       "<Figure size 640x480 with 1 Axes>"
      ]
     },
     "metadata": {},
     "output_type": "display_data"
    }
   ],
   "source": [
    "sns.boxplot( y=\"income\",data=df_db[df_db.loc[:,'income']<0])\n",
    "plt.title('Evaluation of Outliers Income')\n",
    "sns.despine(trim=True)"
   ]
  },
  {
   "cell_type": "code",
   "execution_count": 35,
   "metadata": {},
   "outputs": [
    {
     "data": {
      "image/png": "[encoded data removed]",
      "text/plain": [
       "<Figure size 640x480 with 1 Axes>"
      ]
     },
     "metadata": {},
     "output_type": "display_data"
    }
   ],
   "source": [
    "sns.boxplot( y=\"income\",data=df_db[df_db.loc[:,'income']>0])\n",
    "plt.title('Evaluation of Outliers Income')\n",
    "sns.despine(trim=True)"
   ]
  },
  {
   "cell_type": "code",
   "execution_count": 36,
   "metadata": {},
   "outputs": [
    {
     "data": {
      "text/plain": [
       "debt_to_income_ratio\n",
       "NaN         808367\n",
       "20%-<30%    223743\n",
       "30%-<36%    222979\n",
       "50%-60%     143935\n",
       ">60%        105272\n",
       "<20%         90372\n",
       "44           63132\n",
       "42           60433\n",
       "49           59540\n",
       "43           55039\n",
       "41           54470\n",
       "40           51893\n",
       "39           50524\n",
       "45           48528\n",
       "38           47467\n",
       "48           46440\n",
       "37           45777\n",
       "47           43607\n",
       "46           43550\n",
       "36           43275\n",
       "Exempt       39949\n",
       "Name: count, dtype: int64"
      ]
     },
     "execution_count": 36,
     "metadata": {},
     "output_type": "execute_result"
    }
   ],
   "source": [
    "df_db.debt_to_income_ratio.value_counts(dropna=False).head(25)"
   ]
  },
  {
   "cell_type": "code",
   "execution_count": null,
   "metadata": {},
   "outputs": [],
   "source": []
  }
 ],
 "metadata": {
  "kernelspec": {
   "display_name": "01_bi",
   "language": "python",
   "name": "python3"
  },
  "language_info": {
   "codemirror_mode": {
    "name": "ipython",
    "version": 3
   },
   "file_extension": ".py",
   "mimetype": "text/x-python",
   "name": "python",
   "nbconvert_exporter": "python",
   "pygments_lexer": "ipython3",
   "version": "3.10.8"
  }
 },
 "nbformat": 4,
 "nbformat_minor": 2
}
