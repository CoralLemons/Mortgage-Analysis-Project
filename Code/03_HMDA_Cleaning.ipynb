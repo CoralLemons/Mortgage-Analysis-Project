{
 "cells": [
  {
   "cell_type": "markdown",
   "metadata": {},
   "source": []
  },
  {
   "cell_type": "markdown",
   "metadata": {},
   "source": [
    "# HMDA Cleaning"
   ]
  },
  {
   "cell_type": "code",
   "execution_count": 2,
   "metadata": {},
   "outputs": [],
   "source": [
    "import pandas as pd\n",
    "import seaborn as sns\n",
    "import matplotlib.pyplot as plt"
   ]
  },
  {
   "cell_type": "code",
   "execution_count": 3,
   "metadata": {},
   "outputs": [
    {
     "name": "stderr",
     "output_type": "stream",
     "text": [
      "C:\\Users\\Forcessofnature\\AppData\\Local\\Temp\\ipykernel_17644\\1978745115.py:1: DtypeWarning: Columns (22,23,24,26,27,28,29,30,31,32,33,38,43,44,46,77,78,79,80) have mixed types. Specify dtype option on import or set low_memory=False.\n",
      "  df_db = pd.read_csv(\"https://www.dropbox.com/scl/fi/0yl5e0uwhh2mypl2htt7h/01_2022_HMDA_Filter.csv?rlkey=1z1qtm6h2h8rr1ubauk943la5&dl=1\")\n"
     ]
    }
   ],
   "source": [
    "df_db = pd.read_csv(\"https://www.dropbox.com/scl/fi/0yl5e0uwhh2mypl2htt7h/01_2022_HMDA_Filter.csv?rlkey=1z1qtm6h2h8rr1ubauk943la5&dl=1\")"
   ]
  },
  {
   "cell_type": "code",
   "execution_count": 4,
   "metadata": {},
   "outputs": [
    {
     "data": {
      "text/html": [
       "<div>\n",
       "<style scoped>\n",
       "    .dataframe tbody tr th:only-of-type {\n",
       "        vertical-align: middle;\n",
       "    }\n",
       "\n",
       "    .dataframe tbody tr th {\n",
       "        vertical-align: top;\n",
       "    }\n",
       "\n",
       "    .dataframe thead th {\n",
       "        text-align: right;\n",
       "    }\n",
       "</style>\n",
       "<table border=\"1\" class=\"dataframe\">\n",
       "  <thead>\n",
       "    <tr style=\"text-align: right;\">\n",
       "      <th></th>\n",
       "      <th>activity_year</th>\n",
       "      <th>lei</th>\n",
       "      <th>derived_msa_md</th>\n",
       "      <th>state_code</th>\n",
       "      <th>county_code</th>\n",
       "      <th>census_tract</th>\n",
       "      <th>conforming_loan_limit</th>\n",
       "      <th>derived_loan_product_type</th>\n",
       "      <th>derived_dwelling_category</th>\n",
       "      <th>derived_ethnicity</th>\n",
       "      <th>...</th>\n",
       "      <th>denial_reason_2</th>\n",
       "      <th>denial_reason_3</th>\n",
       "      <th>denial_reason_4</th>\n",
       "      <th>tract_population</th>\n",
       "      <th>tract_minority_population_percent</th>\n",
       "      <th>ffiec_msa_md_median_family_income</th>\n",
       "      <th>tract_to_msa_income_percentage</th>\n",
       "      <th>tract_owner_occupied_units</th>\n",
       "      <th>tract_one_to_four_family_homes</th>\n",
       "      <th>tract_median_age_of_housing_units</th>\n",
       "    </tr>\n",
       "  </thead>\n",
       "  <tbody>\n",
       "    <tr>\n",
       "      <th>0</th>\n",
       "      <td>2022</td>\n",
       "      <td>549300HMP6CQXPB0L958</td>\n",
       "      <td>18580</td>\n",
       "      <td>TX</td>\n",
       "      <td>48355.0</td>\n",
       "      <td>4.835501e+10</td>\n",
       "      <td>C</td>\n",
       "      <td>Conventional:First Lien</td>\n",
       "      <td>Single Family (1-4 Units):Site-Built</td>\n",
       "      <td>Not Hispanic or Latino</td>\n",
       "      <td>...</td>\n",
       "      <td>NaN</td>\n",
       "      <td>NaN</td>\n",
       "      <td>NaN</td>\n",
       "      <td>3217</td>\n",
       "      <td>75.47</td>\n",
       "      <td>80900</td>\n",
       "      <td>71.0</td>\n",
       "      <td>998</td>\n",
       "      <td>1416</td>\n",
       "      <td>51</td>\n",
       "    </tr>\n",
       "    <tr>\n",
       "      <th>1</th>\n",
       "      <td>2022</td>\n",
       "      <td>549300HMP6CQXPB0L958</td>\n",
       "      <td>18580</td>\n",
       "      <td>TX</td>\n",
       "      <td>48355.0</td>\n",
       "      <td>4.835500e+10</td>\n",
       "      <td>C</td>\n",
       "      <td>Conventional:First Lien</td>\n",
       "      <td>Single Family (1-4 Units):Site-Built</td>\n",
       "      <td>Hispanic or Latino</td>\n",
       "      <td>...</td>\n",
       "      <td>NaN</td>\n",
       "      <td>NaN</td>\n",
       "      <td>NaN</td>\n",
       "      <td>4302</td>\n",
       "      <td>74.15</td>\n",
       "      <td>80900</td>\n",
       "      <td>91.0</td>\n",
       "      <td>560</td>\n",
       "      <td>1135</td>\n",
       "      <td>38</td>\n",
       "    </tr>\n",
       "    <tr>\n",
       "      <th>2</th>\n",
       "      <td>2022</td>\n",
       "      <td>549300HMP6CQXPB0L958</td>\n",
       "      <td>18580</td>\n",
       "      <td>TX</td>\n",
       "      <td>48355.0</td>\n",
       "      <td>4.835500e+10</td>\n",
       "      <td>C</td>\n",
       "      <td>Conventional:First Lien</td>\n",
       "      <td>Single Family (1-4 Units):Site-Built</td>\n",
       "      <td>Hispanic or Latino</td>\n",
       "      <td>...</td>\n",
       "      <td>NaN</td>\n",
       "      <td>NaN</td>\n",
       "      <td>NaN</td>\n",
       "      <td>2197</td>\n",
       "      <td>93.90</td>\n",
       "      <td>80900</td>\n",
       "      <td>105.0</td>\n",
       "      <td>550</td>\n",
       "      <td>740</td>\n",
       "      <td>35</td>\n",
       "    </tr>\n",
       "    <tr>\n",
       "      <th>3</th>\n",
       "      <td>2022</td>\n",
       "      <td>549300HMP6CQXPB0L958</td>\n",
       "      <td>18580</td>\n",
       "      <td>TX</td>\n",
       "      <td>48355.0</td>\n",
       "      <td>4.835500e+10</td>\n",
       "      <td>C</td>\n",
       "      <td>Conventional:First Lien</td>\n",
       "      <td>Single Family (1-4 Units):Site-Built</td>\n",
       "      <td>Hispanic or Latino</td>\n",
       "      <td>...</td>\n",
       "      <td>NaN</td>\n",
       "      <td>NaN</td>\n",
       "      <td>NaN</td>\n",
       "      <td>4448</td>\n",
       "      <td>48.70</td>\n",
       "      <td>80900</td>\n",
       "      <td>133.0</td>\n",
       "      <td>1049</td>\n",
       "      <td>1588</td>\n",
       "      <td>62</td>\n",
       "    </tr>\n",
       "    <tr>\n",
       "      <th>4</th>\n",
       "      <td>2022</td>\n",
       "      <td>549300HMP6CQXPB0L958</td>\n",
       "      <td>18580</td>\n",
       "      <td>TX</td>\n",
       "      <td>48355.0</td>\n",
       "      <td>4.835500e+10</td>\n",
       "      <td>C</td>\n",
       "      <td>Conventional:First Lien</td>\n",
       "      <td>Single Family (1-4 Units):Site-Built</td>\n",
       "      <td>Hispanic or Latino</td>\n",
       "      <td>...</td>\n",
       "      <td>NaN</td>\n",
       "      <td>NaN</td>\n",
       "      <td>NaN</td>\n",
       "      <td>4083</td>\n",
       "      <td>85.43</td>\n",
       "      <td>80900</td>\n",
       "      <td>82.0</td>\n",
       "      <td>900</td>\n",
       "      <td>1375</td>\n",
       "      <td>64</td>\n",
       "    </tr>\n",
       "  </tbody>\n",
       "</table>\n",
       "<p>5 rows × 99 columns</p>\n",
       "</div>"
      ],
      "text/plain": [
       "   activity_year                   lei  derived_msa_md state_code  \\\n",
       "0           2022  549300HMP6CQXPB0L958           18580         TX   \n",
       "1           2022  549300HMP6CQXPB0L958           18580         TX   \n",
       "2           2022  549300HMP6CQXPB0L958           18580         TX   \n",
       "3           2022  549300HMP6CQXPB0L958           18580         TX   \n",
       "4           2022  549300HMP6CQXPB0L958           18580         TX   \n",
       "\n",
       "   county_code  census_tract conforming_loan_limit derived_loan_product_type  \\\n",
       "0      48355.0  4.835501e+10                     C   Conventional:First Lien   \n",
       "1      48355.0  4.835500e+10                     C   Conventional:First Lien   \n",
       "2      48355.0  4.835500e+10                     C   Conventional:First Lien   \n",
       "3      48355.0  4.835500e+10                     C   Conventional:First Lien   \n",
       "4      48355.0  4.835500e+10                     C   Conventional:First Lien   \n",
       "\n",
       "              derived_dwelling_category       derived_ethnicity  ...  \\\n",
       "0  Single Family (1-4 Units):Site-Built  Not Hispanic or Latino  ...   \n",
       "1  Single Family (1-4 Units):Site-Built      Hispanic or Latino  ...   \n",
       "2  Single Family (1-4 Units):Site-Built      Hispanic or Latino  ...   \n",
       "3  Single Family (1-4 Units):Site-Built      Hispanic or Latino  ...   \n",
       "4  Single Family (1-4 Units):Site-Built      Hispanic or Latino  ...   \n",
       "\n",
       "  denial_reason_2 denial_reason_3  denial_reason_4  tract_population  \\\n",
       "0             NaN             NaN              NaN              3217   \n",
       "1             NaN             NaN              NaN              4302   \n",
       "2             NaN             NaN              NaN              2197   \n",
       "3             NaN             NaN              NaN              4448   \n",
       "4             NaN             NaN              NaN              4083   \n",
       "\n",
       "   tract_minority_population_percent  ffiec_msa_md_median_family_income  \\\n",
       "0                              75.47                              80900   \n",
       "1                              74.15                              80900   \n",
       "2                              93.90                              80900   \n",
       "3                              48.70                              80900   \n",
       "4                              85.43                              80900   \n",
       "\n",
       "   tract_to_msa_income_percentage  tract_owner_occupied_units  \\\n",
       "0                            71.0                         998   \n",
       "1                            91.0                         560   \n",
       "2                           105.0                         550   \n",
       "3                           133.0                        1049   \n",
       "4                            82.0                         900   \n",
       "\n",
       "   tract_one_to_four_family_homes  tract_median_age_of_housing_units  \n",
       "0                            1416                                 51  \n",
       "1                            1135                                 38  \n",
       "2                             740                                 35  \n",
       "3                            1588                                 62  \n",
       "4                            1375                                 64  \n",
       "\n",
       "[5 rows x 99 columns]"
      ]
     },
     "execution_count": 4,
     "metadata": {},
     "output_type": "execute_result"
    }
   ],
   "source": [
    "df_db.head()"
   ]
  },
  {
   "cell_type": "markdown",
   "metadata": {},
   "source": [
    "### Dependent Variable of Interest"
   ]
  },
  {
   "cell_type": "code",
   "execution_count": 5,
   "metadata": {},
   "outputs": [
    {
     "data": {
      "text/plain": [
       "action_taken\n",
       "1    1183677\n",
       "3     373293\n",
       "4     334697\n",
       "6     264196\n",
       "5     116468\n",
       "2      64596\n",
       "8       7992\n",
       "7       3373\n",
       "Name: count, dtype: int64"
      ]
     },
     "execution_count": 5,
     "metadata": {},
     "output_type": "execute_result"
    }
   ],
   "source": [
    "# Values:\n",
    "\n",
    "#     1 - Loan originated\n",
    "#     2 - Application approved but not accepted\n",
    "#     3 - Application denied\n",
    "#     4 - Application withdrawn by applicant\n",
    "#     5 - File closed for incompleteness\n",
    "#     6 - Purchased loan\n",
    "#     7 - Preapproval request denied\n",
    "#     8 - Preapproval request approved but not accepted\n",
    "\n",
    "\n",
    "df_db.action_taken.value_counts(dropna=False)"
   ]
  },
  {
   "cell_type": "markdown",
   "metadata": {},
   "source": [
    "#### Recoding and Dropping of Options"
   ]
  },
  {
   "cell_type": "code",
   "execution_count": null,
   "metadata": {},
   "outputs": [],
   "source": [
    "# Values:\n",
    "\n",
    "#     1 - 1 Loan originated\n",
    "#     2 - 1 Application approved but not accepted\n",
    "#     3 - 0 Application denied\n",
    "#     4 - *drop* Application withdrawn by applicant\n",
    "#     5 - *drop* File closed for incompleteness\n",
    "#     6 - 1 Purchased loan\n",
    "#     7 - 0 Preapproval request denied\n",
    "#     8 - 1 Preapproval request approved but not accepted"
   ]
  },
  {
   "cell_type": "code",
   "execution_count": 16,
   "metadata": {},
   "outputs": [
    {
     "data": {
      "text/plain": [
       "2348292"
      ]
     },
     "execution_count": 16,
     "metadata": {},
     "output_type": "execute_result"
    }
   ],
   "source": [
    "len(df_db)"
   ]
  },
  {
   "cell_type": "code",
   "execution_count": 15,
   "metadata": {},
   "outputs": [
    {
     "data": {
      "text/plain": [
       "1897127"
      ]
     },
     "execution_count": 15,
     "metadata": {},
     "output_type": "execute_result"
    }
   ],
   "source": [
    "selected = df_db.loc[:, 'action_taken'].isin([4, 5])\n",
    "df_selected = df_db[~selected]\n",
    "len(df_selected)"
   ]
  },
  {
   "cell_type": "code",
   "execution_count": 19,
   "metadata": {},
   "outputs": [],
   "source": [
    "accepted_selected = df_selected.loc[:, 'action_taken'].isin([1, 2, 6, 8])\n",
    "df_selected.loc[:, 'application_approved'] = 0  # Default value is 0\n",
    "\n",
    "# Update rows where accepted_selected is True\n",
    "df_selected.loc[accepted_selected, 'application_approved'] = 1"
   ]
  },
  {
   "cell_type": "code",
   "execution_count": 21,
   "metadata": {},
   "outputs": [
    {
     "data": {
      "text/plain": [
       "application_approved\n",
       "1    1520461\n",
       "0     376666\n",
       "Name: count, dtype: int64"
      ]
     },
     "execution_count": 21,
     "metadata": {},
     "output_type": "execute_result"
    }
   ],
   "source": [
    "df_selected.application_approved.value_counts(dropna=False)"
   ]
  },
  {
   "cell_type": "code",
   "execution_count": 38,
   "metadata": {},
   "outputs": [
    {
     "data": {
      "image/png": "[encoded data removed]",
      "text/plain": [
       "<Figure size 661.111x500 with 1 Axes>"
      ]
     },
     "metadata": {},
     "output_type": "display_data"
    }
   ],
   "source": [
    "sns.displot(df_selected.loc[:, ['application_approved', 'derived_race']], x=\"derived_race\", hue=\"application_approved\", multiple=\"stack\")\n",
    "# Rotate x-axis labels by 90 degrees\n",
    "plt.xticks(rotation=90)\n",
    "\n",
    "# Show the plot\n",
    "plt.show()"
   ]
  },
  {
   "cell_type": "markdown",
   "metadata": {},
   "source": [
    "### Independent Variables of Interest"
   ]
  },
  {
   "cell_type": "code",
   "execution_count": 22,
   "metadata": {},
   "outputs": [
    {
     "data": {
      "text/plain": [
       "derived_sex\n",
       "Joint                604804\n",
       "Male                 563504\n",
       "Sex Not Available    376616\n",
       "Female               352203\n",
       "Name: count, dtype: int64"
      ]
     },
     "execution_count": 22,
     "metadata": {},
     "output_type": "execute_result"
    }
   ],
   "source": [
    "df_selected.derived_sex.value_counts(dropna=False)"
   ]
  },
  {
   "cell_type": "code",
   "execution_count": 23,
   "metadata": {},
   "outputs": [
    {
     "data": {
      "text/plain": [
       "derived_loan_product_type\n",
       "Conventional:First Lien          1267211\n",
       "Conventional:Subordinate Lien     286307\n",
       "FHA:First Lien                    218601\n",
       "VA:First Lien                     120185\n",
       "FSA/RHS:First Lien                  4258\n",
       "FSA/RHS:Subordinate Lien             443\n",
       "FHA:Subordinate Lien                 115\n",
       "VA:Subordinate Lien                    7\n",
       "Name: count, dtype: int64"
      ]
     },
     "execution_count": 23,
     "metadata": {},
     "output_type": "execute_result"
    }
   ],
   "source": [
    "df_selected.derived_loan_product_type.value_counts(dropna=False)\n",
    "\n"
   ]
  },
  {
   "cell_type": "code",
   "execution_count": 24,
   "metadata": {},
   "outputs": [
    {
     "data": {
      "text/plain": [
       "derived_race\n",
       "White                                        1021357\n",
       "Race Not Available                            539609\n",
       "Asian                                         153335\n",
       "Black or African American                     120668\n",
       "Joint                                          42388\n",
       "American Indian or Alaska Native               11269\n",
       "Native Hawaiian or Other Pacific Islander       4163\n",
       "2 or more minority races                        3909\n",
       "Free Form Text Only                              429\n",
       "Name: count, dtype: int64"
      ]
     },
     "execution_count": 24,
     "metadata": {},
     "output_type": "execute_result"
    }
   ],
   "source": [
    "df_selected.derived_race.value_counts(dropna=False)"
   ]
  },
  {
   "cell_type": "code",
   "execution_count": 39,
   "metadata": {},
   "outputs": [
    {
     "data": {
      "image/png": "[encoded data removed]",
      "text/plain": [
       "<Figure size 661.111x500 with 1 Axes>"
      ]
     },
     "metadata": {},
     "output_type": "display_data"
    }
   ],
   "source": [
    "sns.displot(df_selected.loc[:, ['application_approved', 'derived_ethnicity']], x=\"derived_ethnicity\", hue=\"application_approved\", multiple=\"stack\")\n",
    "# Rotate x-axis labels by 90 degrees\n",
    "plt.xticks(rotation=90)\n",
    "\n",
    "# Show the plot\n",
    "plt.show()"
   ]
  },
  {
   "cell_type": "code",
   "execution_count": 25,
   "metadata": {},
   "outputs": [
    {
     "data": {
      "text/plain": [
       "derived_ethnicity\n",
       "Not Hispanic or Latino     1071830\n",
       "Ethnicity Not Available     501014\n",
       "Hispanic or Latino          268179\n",
       "Joint                        55261\n",
       "Free Form Text Only            843\n",
       "Name: count, dtype: int64"
      ]
     },
     "execution_count": 25,
     "metadata": {},
     "output_type": "execute_result"
    }
   ],
   "source": [
    "df_selected.derived_ethnicity.value_counts(dropna=False)"
   ]
  },
  {
   "cell_type": "code",
   "execution_count": 26,
   "metadata": {},
   "outputs": [
    {
     "data": {
      "text/plain": [
       "preapproval\n",
       "2    1840170\n",
       "1      56957\n",
       "Name: count, dtype: int64"
      ]
     },
     "execution_count": 26,
     "metadata": {},
     "output_type": "execute_result"
    }
   ],
   "source": [
    "# Values:\n",
    "\n",
    "#     1 - Preapproval requested\n",
    "#     2 - Preapproval not requested\n",
    "\n",
    "df_selected.preapproval.value_counts(dropna=False)"
   ]
  },
  {
   "cell_type": "code",
   "execution_count": 27,
   "metadata": {},
   "outputs": [
    {
     "data": {
      "text/plain": [
       "loan_purpose\n",
       "1     1070001\n",
       "32     304760\n",
       "31     213629\n",
       "2      162504\n",
       "4      132990\n",
       "5       13243\n",
       "Name: count, dtype: int64"
      ]
     },
     "execution_count": 27,
     "metadata": {},
     "output_type": "execute_result"
    }
   ],
   "source": [
    "# Values:\n",
    "\n",
    "#     1 - Home purchase\n",
    "#     2 - Home improvement\n",
    "#     31 - Refinancing\n",
    "#     32 - Cash-out refinancing\n",
    "#     4 - Other purpose\n",
    "#     5 - Not applicable\n",
    "\n",
    "\n",
    "df_selected.loan_purpose.value_counts(dropna=False)"
   ]
  },
  {
   "cell_type": "code",
   "execution_count": 28,
   "metadata": {},
   "outputs": [
    {
     "data": {
      "image/png": "[encoded data removed]",
      "text/plain": [
       "<Figure size 640x480 with 1 Axes>"
      ]
     },
     "metadata": {},
     "output_type": "display_data"
    }
   ],
   "source": [
    "# Create a histogram using Seaborn\n",
    "sns.histplot(df_selected[df_selected.loc[:,'loan_amount']<2000000].loan_amount,color = '#143F62', bins= 50)  # kde=False disables the kernel density estimation\n",
    "plt.xlabel('Values')\n",
    "plt.ylabel('Frequency')\n",
    "plt.title('Histogram Chart Distribution')\n",
    "plt.show()"
   ]
  },
  {
   "cell_type": "code",
   "execution_count": 29,
   "metadata": {},
   "outputs": [
    {
     "data": {
      "text/plain": [
       "interest_rate\n",
       "NaN       380644\n",
       "Exempt     35898\n",
       "4.75       27473\n",
       "3.75       27014\n",
       "3.25       25391\n",
       "5.5        24157\n",
       "5.25       23853\n",
       "3.875      23687\n",
       "5.625      23290\n",
       "4.25       23195\n",
       "5.25       22941\n",
       "3.75       22364\n",
       "4.5        22302\n",
       "4.75       22277\n",
       "4.875      21861\n",
       "4.25       21517\n",
       "5.5        21192\n",
       "3.25       21149\n",
       "3.875      20524\n",
       "5.125      19655\n",
       "3.5        19583\n",
       "5.625      19181\n",
       "4.5        19128\n",
       "3.375      19110\n",
       "5.75       18755\n",
       "Name: count, dtype: int64"
      ]
     },
     "execution_count": 29,
     "metadata": {},
     "output_type": "execute_result"
    }
   ],
   "source": [
    "df_selected.interest_rate.value_counts(dropna=False).head(25)"
   ]
  },
  {
   "cell_type": "code",
   "execution_count": 30,
   "metadata": {},
   "outputs": [
    {
     "data": {
      "text/plain": [
       "loan_term\n",
       "360       750476\n",
       "360       414945\n",
       "360.0     167173\n",
       "180        75173\n",
       "300        61323\n",
       "180        48000\n",
       "240        44895\n",
       "240        42993\n",
       "300        39092\n",
       "Exempt     35657\n",
       "NaN        33792\n",
       "120        18664\n",
       "180.0      18129\n",
       "120        16904\n",
       "480.0      12494\n",
       "36.0       11359\n",
       "276         9857\n",
       "240.0       9680\n",
       "300.0       6883\n",
       "120.0       5960\n",
       "60          4562\n",
       "12          3922\n",
       "1.0         3426\n",
       "60.0        3351\n",
       "372.0       3319\n",
       "Name: count, dtype: int64"
      ]
     },
     "execution_count": 30,
     "metadata": {},
     "output_type": "execute_result"
    }
   ],
   "source": [
    "df_selected.loan_term.value_counts(dropna=False).head(25)"
   ]
  },
  {
   "cell_type": "code",
   "execution_count": 31,
   "metadata": {},
   "outputs": [
    {
     "data": {
      "text/plain": [
       "applicant_age\n",
       "35-44    454038\n",
       "25-34    360312\n",
       "45-54    359342\n",
       "55-64    246910\n",
       "8888     217796\n",
       "65-74    126925\n",
       "<25       46976\n",
       ">74       43868\n",
       "8888      40960\n",
       "Name: count, dtype: int64"
      ]
     },
     "execution_count": 31,
     "metadata": {},
     "output_type": "execute_result"
    }
   ],
   "source": [
    "df_selected.applicant_age.value_counts(dropna=False).head(25)"
   ]
  },
  {
   "cell_type": "code",
   "execution_count": 34,
   "metadata": {},
   "outputs": [
    {
     "data": {
      "text/plain": [
       "debt_to_income_ratio\n",
       "NaN         361242\n",
       "20%-<30%    223743\n",
       "30%-<36%    222979\n",
       "50%-60%     143935\n",
       ">60%        105272\n",
       "<20%         90372\n",
       "44           63132\n",
       "42           60433\n",
       "49           59540\n",
       "43           55039\n",
       "41           54470\n",
       "40           51893\n",
       "39           50524\n",
       "45           48528\n",
       "38           47467\n",
       "48           46440\n",
       "37           45777\n",
       "47           43607\n",
       "46           43550\n",
       "36           43275\n",
       "Exempt       35909\n",
       "Name: count, dtype: int64"
      ]
     },
     "execution_count": 34,
     "metadata": {},
     "output_type": "execute_result"
    }
   ],
   "source": [
    "df_selected.debt_to_income_ratio.value_counts(dropna=False).head(25)"
   ]
  },
  {
   "cell_type": "markdown",
   "metadata": {},
   "source": [
    "### Should we drop or normailize the income?"
   ]
  },
  {
   "cell_type": "code",
   "execution_count": 32,
   "metadata": {},
   "outputs": [
    {
     "data": {
      "image/png": "[encoded data removed]",
      "text/plain": [
       "<Figure size 640x480 with 1 Axes>"
      ]
     },
     "metadata": {},
     "output_type": "display_data"
    }
   ],
   "source": [
    "sns.boxplot( y=\"income\",data=df_selected[df_selected.loc[:,'income']<0])\n",
    "plt.title('Evaluation of Outliers Income')\n",
    "sns.despine(trim=True)"
   ]
  },
  {
   "cell_type": "code",
   "execution_count": 33,
   "metadata": {},
   "outputs": [
    {
     "data": {
      "image/png": "[encoded data removed]",
      "text/plain": [
       "<Figure size 640x480 with 1 Axes>"
      ]
     },
     "metadata": {},
     "output_type": "display_data"
    }
   ],
   "source": [
    "sns.boxplot( y=\"income\",data=df_selected[df_selected.loc[:,'income']>0])\n",
    "plt.title('Evaluation of Outliers Income')\n",
    "sns.despine(trim=True)"
   ]
  },
  {
   "cell_type": "code",
   "execution_count": 40,
   "metadata": {},
   "outputs": [],
   "source": [
    "df_selected.to_csv(r\"...\\Desktop\\02_2022_HMDA_Filter.csv\", index=False)"
   ]
  },
  {
   "cell_type": "code",
   "execution_count": null,
   "metadata": {},
   "outputs": [],
   "source": []
  }
 ],
 "metadata": {
  "kernelspec": {
   "display_name": "01_bi",
   "language": "python",
   "name": "python3"
  },
  "language_info": {
   "codemirror_mode": {
    "name": "ipython",
    "version": 3
   },
   "file_extension": ".py",
   "mimetype": "text/x-python",
   "name": "python",
   "nbconvert_exporter": "python",
   "pygments_lexer": "ipython3",
   "version": "3.10.8"
  }
 },
 "nbformat": 4,
 "nbformat_minor": 2
}
