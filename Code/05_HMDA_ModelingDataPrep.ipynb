{
 "cells": [
  {
   "cell_type": "code",
   "execution_count": 1,
   "metadata": {},
   "outputs": [],
   "source": [
    "import pandas as pd\n",
    "import seaborn as sns\n",
    "import matplotlib.pyplot as plt\n",
    "import numpy as np\n",
    "import os"
   ]
  },
  {
   "cell_type": "markdown",
   "metadata": {},
   "source": [
    "## Read Data For WA, NY, TX, CA and from 2018 to 2022"
   ]
  },
  {
   "cell_type": "code",
   "execution_count": 2,
   "metadata": {},
   "outputs": [],
   "source": [
    "# Navigate up one level from the current directory\n",
    "parent_dir = os.path.dirname(os.getcwd())\n",
    "\n",
    "# Define the relative path to the Parquet file from the parent directory\n",
    "relative_path = r\"analyticsDF.parquet\"\n",
    "\n",
    "# Concatenate the parent directory path and the relative path to get the full path\n",
    "full_path = os.path.join(parent_dir, relative_path)"
   ]
  },
  {
   "cell_type": "code",
   "execution_count": 3,
   "metadata": {},
   "outputs": [],
   "source": [
    "df = pd.read_parquet(full_path)"
   ]
  },
  {
   "cell_type": "code",
   "execution_count": 4,
   "metadata": {},
   "outputs": [
    {
     "name": "stdout",
     "output_type": "stream",
     "text": [
      "<class 'pandas.core.frame.DataFrame'>\n",
      "RangeIndex: 9712778 entries, 0 to 9712777\n",
      "Data columns (total 70 columns):\n",
      " #   Column                             Non-Null Count    Dtype  \n",
      "---  ------                             --------------    -----  \n",
      " 0   activity_year                      9712778 non-null  object \n",
      " 1   lei                                9712778 non-null  object \n",
      " 2   derived_msa_md                     9712778 non-null  object \n",
      " 3   state_code                         9712778 non-null  object \n",
      " 4   county_code                        9712778 non-null  object \n",
      " 5   census_tract                       9712778 non-null  object \n",
      " 6   conforming_loan_limit              9712778 non-null  object \n",
      " 7   derived_loan_product_type          9712778 non-null  object \n",
      " 8   derived_dwelling_category          9712778 non-null  object \n",
      " 9   derived_ethnicity                  9712778 non-null  object \n",
      " 10  derived_race                       9712778 non-null  object \n",
      " 11  derived_sex                        9712778 non-null  object \n",
      " 12  action_taken                       9712778 non-null  object \n",
      " 13  purchaser_type                     9712778 non-null  object \n",
      " 14  preapproval                        9712778 non-null  bool   \n",
      " 15  loan_type                          9712778 non-null  object \n",
      " 16  loan_purpose                       9712778 non-null  object \n",
      " 17  lien_status                        9712778 non-null  object \n",
      " 18  reverse_mortgage                   9712778 non-null  object \n",
      " 19  open_end_line_of_credit            9712778 non-null  object \n",
      " 20  business_or_commercial_purpose     9712778 non-null  bool   \n",
      " 21  loan_amount                        9712778 non-null  object \n",
      " 22  combined_loan_to_value_ratio       6136499 non-null  object \n",
      " 23  interest_rate                      7368575 non-null  object \n",
      " 24  rate_spread                        5337645 non-null  object \n",
      " 25  hoepa_status                       9712778 non-null  object \n",
      " 26  total_loan_costs                   6423067 non-null  object \n",
      " 27  total_points_and_fees              243846 non-null   object \n",
      " 28  origination_charges                6551850 non-null  object \n",
      " 29  discount_points                    2669536 non-null  object \n",
      " 30  lender_credits                     2666553 non-null  object \n",
      " 31  loan_term                          9679205 non-null  float64\n",
      " 32  prepayment_penalty_term            150614 non-null   float64\n",
      " 33  intro_rate_period                  770861 non-null   float64\n",
      " 34  negative_amortization              9712778 non-null  bool   \n",
      " 35  interest_only_payment              9712778 non-null  bool   \n",
      " 36  balloon_payment                    9712778 non-null  bool   \n",
      " 37  other_nonamortizing_features       9712778 non-null  bool   \n",
      " 38  property_value                     8051275 non-null  float64\n",
      " 39  construction_method                9712778 non-null  object \n",
      " 40  occupancy_type                     9712778 non-null  object \n",
      " 41  total_units                        9712778 non-null  object \n",
      " 42  multifamily_affordable_units       172565 non-null   float64\n",
      " 43  income                             8492651 non-null  float64\n",
      " 44  debt_to_income_ratio               9712778 non-null  object \n",
      " 45  applicant_credit_score_type        9712778 non-null  object \n",
      " 46  co_applicant_credit_score_type     9712778 non-null  object \n",
      " 47  applicant_age                      9712778 non-null  object \n",
      " 48  co_applicant_age                   9712778 non-null  object \n",
      " 49  applicant_age_above_62             9712778 non-null  object \n",
      " 50  co_applicant_age_above_62          9712778 non-null  object \n",
      " 51  aus_1                              9712778 non-null  object \n",
      " 52  aus_2                              609383 non-null   object \n",
      " 53  aus_3                              170354 non-null   object \n",
      " 54  aus_4                              66926 non-null    object \n",
      " 55  aus_5                              57530 non-null    object \n",
      " 56  tract_population                   9712778 non-null  object \n",
      " 57  tract_minority_population_percent  9712778 non-null  object \n",
      " 58  ffiec_msa_md_median_family_income  9712778 non-null  int32  \n",
      " 59  tract_to_msa_income_percentage     9712778 non-null  object \n",
      " 60  tract_owner_occupied_units         9712778 non-null  int32  \n",
      " 61  tract_one_to_four_family_homes     9712778 non-null  int32  \n",
      " 62  tract_median_age_of_housing_units  9712778 non-null  int32  \n",
      " 63  total_units_val                    9712778 non-null  int32  \n",
      " 64  debt_to_income_ratio_val           9132033 non-null  object \n",
      " 65  applicant_ethnicitys               9712778 non-null  object \n",
      " 66  co_applicant_ethnicitys            9712778 non-null  object \n",
      " 67  applicant_races                    9712778 non-null  object \n",
      " 68  co_applicant_races                 9712778 non-null  object \n",
      " 69  denial_reasons                     9712778 non-null  object \n",
      "dtypes: bool(6), float64(6), int32(5), object(53)\n",
      "memory usage: 4.5+ GB\n"
     ]
    }
   ],
   "source": [
    "df.info(verbose = True, show_counts=True)"
   ]
  },
  {
   "cell_type": "code",
   "execution_count": 5,
   "metadata": {},
   "outputs": [
    {
     "data": {
      "text/plain": [
       "9712778"
      ]
     },
     "execution_count": 5,
     "metadata": {},
     "output_type": "execute_result"
    }
   ],
   "source": [
    "# size of dataset\n",
    "len(df)"
   ]
  },
  {
   "cell_type": "markdown",
   "metadata": {},
   "source": [
    "## Drop rows due to inconclusive dependent variable"
   ]
  },
  {
   "cell_type": "code",
   "execution_count": 6,
   "metadata": {},
   "outputs": [
    {
     "data": {
      "text/plain": [
       "8211413"
      ]
     },
     "execution_count": 6,
     "metadata": {},
     "output_type": "execute_result"
    }
   ],
   "source": [
    "# Values:\n",
    "\n",
    "#     1 - 1 Loan originated\n",
    "#     2 - 1 Application approved but not accepted\n",
    "#     3 - 0 Application denied\n",
    "#     4 - *drop* Application withdrawn by applicant\n",
    "#     5 - *drop* File closed for incompleteness\n",
    "#     6 - 1 Purchased loan\n",
    "#     7 - 0 Preapproval request denied\n",
    "#     8 - 1 Preapproval request approved but not accepted\n",
    "\n",
    "selected = df.loc[:, 'action_taken'].isin(['4', '5'])\n",
    "df = df[~selected]\n",
    "len(df)"
   ]
  },
  {
   "cell_type": "code",
   "execution_count": 7,
   "metadata": {},
   "outputs": [],
   "source": [
    "# Create dependate binary variable\n",
    "\n",
    "accepted_selected = df.loc[:, 'action_taken'].isin(['1', '2', '6', '8'])\n",
    "df.loc[:, 'application_approved'] = 0  # Default value is 0\n",
    "\n",
    "# Update rows where accepted_selected is True\n",
    "df.loc[accepted_selected, 'application_approved'] = 1"
   ]
  },
  {
   "cell_type": "markdown",
   "metadata": {},
   "source": [
    "## Cleaning Features"
   ]
  },
  {
   "cell_type": "code",
   "execution_count": 8,
   "metadata": {},
   "outputs": [
    {
     "data": {
      "text/plain": [
       "45"
      ]
     },
     "execution_count": 8,
     "metadata": {},
     "output_type": "execute_result"
    }
   ],
   "source": [
    "#conbination of race and ethinicty to no leave out hispanic or latino\n",
    "\n",
    "df['race_ethnicity'] = df['derived_race'].str.cat(df['derived_ethnicity'], sep='|')\n",
    "\n",
    "# how many categroies were created\n",
    "len(df.race_ethnicity.value_counts(dropna=False))"
   ]
  },
  {
   "cell_type": "code",
   "execution_count": 9,
   "metadata": {},
   "outputs": [
    {
     "data": {
      "text/plain": [
       "25-34    2207964\n",
       "35-44    2067634\n",
       "45-54    1286557\n",
       "-99      1134923\n",
       "55-64     781714\n",
       "65-74     344005\n",
       "<25       300211\n",
       ">74        88398\n",
       "9999           7\n",
       "Name: applicant_age, dtype: int64"
      ]
     },
     "execution_count": 9,
     "metadata": {},
     "output_type": "execute_result"
    }
   ],
   "source": [
    "df.applicant_age.value_counts()"
   ]
  },
  {
   "cell_type": "markdown",
   "metadata": {},
   "source": [
    "### Keep Columns of Interest"
   ]
  },
  {
   "cell_type": "code",
   "execution_count": 10,
   "metadata": {},
   "outputs": [],
   "source": [
    "# Keep columns of interest\n",
    "df = df.loc[:, ['application_approved', 'race_ethnicity','county_code', 'derived_sex', 'income', 'applicant_age', 'loan_amount', 'property_value', 'loan_term', 'interest_rate', 'state_code', 'activity_year', 'occupancy_type']]"
   ]
  },
  {
   "cell_type": "code",
   "execution_count": 11,
   "metadata": {},
   "outputs": [
    {
     "data": {
      "text/plain": [
       "6134535"
      ]
     },
     "execution_count": 11,
     "metadata": {},
     "output_type": "execute_result"
    }
   ],
   "source": [
    "# Filtering rows with NaN values in any column\n",
    "df = df[~df.isna().any(axis=1)]\n",
    "# size of dataset\n",
    "len(df)"
   ]
  },
  {
   "cell_type": "code",
   "execution_count": 12,
   "metadata": {},
   "outputs": [
    {
     "data": {
      "text/plain": [
       "Index(['application_approved', 'race_ethnicity', 'county_code', 'derived_sex',\n",
       "       'income', 'applicant_age', 'loan_amount', 'property_value', 'loan_term',\n",
       "       'interest_rate', 'state_code', 'activity_year', 'occupancy_type'],\n",
       "      dtype='object')"
      ]
     },
     "execution_count": 12,
     "metadata": {},
     "output_type": "execute_result"
    }
   ],
   "source": [
    "df.columns"
   ]
  },
  {
   "cell_type": "code",
   "execution_count": 13,
   "metadata": {},
   "outputs": [
    {
     "data": {
      "text/plain": [
       "5949706"
      ]
     },
     "execution_count": 13,
     "metadata": {},
     "output_type": "execute_result"
    }
   ],
   "source": [
    "# Remove negative ammounts\n",
    "df = df[df.loc[:,'income']>0]\n",
    "\n",
    "df = df[df.loc[:,'property_value']>0]\n",
    "df = df[df['interest_rate']>0]\n",
    "\n",
    "df = df[df['loan_term']>0]\n",
    "#Normalized Income\n",
    "\n",
    "# Apply log transformation using numpy's log1p function\n",
    "df['income_log'] = np.log1p(df['income'])\n",
    "\n",
    "# Convert the 'loan_amount' column to float64\n",
    "df['loan_amount'] = df['loan_amount'].astype('float64')\n",
    "\n",
    "# Apply log transformation using numpy's log1p function\n",
    "df['loan_amount_log'] = np.log1p(df['loan_amount'])\n",
    "\n",
    "# Convert the 'loan_amount' column to float64\n",
    "df['property_value'] = df['property_value'].astype('float64')\n",
    "\n",
    "# Apply log transformation using numpy's log1p function\n",
    "df['property_value_log'] = np.log1p(df['property_value'])\n",
    "\n",
    "df['interest_rate'] = df['interest_rate'].astype('float64')\n",
    "\n",
    "df['loan_term'] = df['loan_term'].astype('float64')\n",
    "\n",
    "\n",
    "df['loan_to_value'] = df['loan_amount'] / df['property_value'] \n",
    "\n",
    "df['debt_to_income'] = df['loan_amount'] / df['income'] \n",
    "\n",
    "#df.drop(['income', 'loan_amount', 'property_value'], axis=1, inplace=True) \n",
    "\n",
    "# size of dataset\n",
    "len(df)"
   ]
  },
  {
   "cell_type": "code",
   "execution_count": 14,
   "metadata": {},
   "outputs": [
    {
     "data": {
      "text/html": [
       "<div>\n",
       "<style scoped>\n",
       "    .dataframe tbody tr th:only-of-type {\n",
       "        vertical-align: middle;\n",
       "    }\n",
       "\n",
       "    .dataframe tbody tr th {\n",
       "        vertical-align: top;\n",
       "    }\n",
       "\n",
       "    .dataframe thead th {\n",
       "        text-align: right;\n",
       "    }\n",
       "</style>\n",
       "<table border=\"1\" class=\"dataframe\">\n",
       "  <thead>\n",
       "    <tr style=\"text-align: right;\">\n",
       "      <th></th>\n",
       "      <th>count</th>\n",
       "      <th>mean</th>\n",
       "      <th>std</th>\n",
       "      <th>min</th>\n",
       "      <th>25%</th>\n",
       "      <th>50%</th>\n",
       "      <th>75%</th>\n",
       "      <th>max</th>\n",
       "    </tr>\n",
       "  </thead>\n",
       "  <tbody>\n",
       "    <tr>\n",
       "      <th>application_approved</th>\n",
       "      <td>5949706.0</td>\n",
       "      <td>1.000000</td>\n",
       "      <td>0.000000</td>\n",
       "      <td>1.000000</td>\n",
       "      <td>1.000000</td>\n",
       "      <td>1.000000</td>\n",
       "      <td>1.000000</td>\n",
       "      <td>1.000000e+00</td>\n",
       "    </tr>\n",
       "    <tr>\n",
       "      <th>income</th>\n",
       "      <td>5949706.0</td>\n",
       "      <td>569.908027</td>\n",
       "      <td>9434.538715</td>\n",
       "      <td>1.000000</td>\n",
       "      <td>73.000000</td>\n",
       "      <td>110.000000</td>\n",
       "      <td>171.000000</td>\n",
       "      <td>1.197064e+07</td>\n",
       "    </tr>\n",
       "    <tr>\n",
       "      <th>loan_amount</th>\n",
       "      <td>5949706.0</td>\n",
       "      <td>410365.150816</td>\n",
       "      <td>446790.592685</td>\n",
       "      <td>5000.000000</td>\n",
       "      <td>215000.000000</td>\n",
       "      <td>325000.000000</td>\n",
       "      <td>495000.000000</td>\n",
       "      <td>5.250050e+08</td>\n",
       "    </tr>\n",
       "    <tr>\n",
       "      <th>property_value</th>\n",
       "      <td>5949706.0</td>\n",
       "      <td>528470.337862</td>\n",
       "      <td>625066.008273</td>\n",
       "      <td>5000.000000</td>\n",
       "      <td>255000.000000</td>\n",
       "      <td>385000.000000</td>\n",
       "      <td>615000.000000</td>\n",
       "      <td>5.300050e+08</td>\n",
       "    </tr>\n",
       "    <tr>\n",
       "      <th>loan_term</th>\n",
       "      <td>5949706.0</td>\n",
       "      <td>349.804881</td>\n",
       "      <td>41.540383</td>\n",
       "      <td>1.000000</td>\n",
       "      <td>360.000000</td>\n",
       "      <td>360.000000</td>\n",
       "      <td>360.000000</td>\n",
       "      <td>3.360000e+03</td>\n",
       "    </tr>\n",
       "    <tr>\n",
       "      <th>interest_rate</th>\n",
       "      <td>5949706.0</td>\n",
       "      <td>4.167932</td>\n",
       "      <td>27.512630</td>\n",
       "      <td>0.001000</td>\n",
       "      <td>3.125000</td>\n",
       "      <td>3.875000</td>\n",
       "      <td>4.750000</td>\n",
       "      <td>4.387500e+04</td>\n",
       "    </tr>\n",
       "    <tr>\n",
       "      <th>income_log</th>\n",
       "      <td>5949706.0</td>\n",
       "      <td>4.789633</td>\n",
       "      <td>0.813742</td>\n",
       "      <td>0.693147</td>\n",
       "      <td>4.304065</td>\n",
       "      <td>4.709530</td>\n",
       "      <td>5.147494</td>\n",
       "      <td>1.629797e+01</td>\n",
       "    </tr>\n",
       "    <tr>\n",
       "      <th>loan_amount_log</th>\n",
       "      <td>5949706.0</td>\n",
       "      <td>12.672197</td>\n",
       "      <td>0.728853</td>\n",
       "      <td>8.517393</td>\n",
       "      <td>12.278398</td>\n",
       "      <td>12.691584</td>\n",
       "      <td>13.112315</td>\n",
       "      <td>2.007892e+01</td>\n",
       "    </tr>\n",
       "    <tr>\n",
       "      <th>property_value_log</th>\n",
       "      <td>5949706.0</td>\n",
       "      <td>12.898053</td>\n",
       "      <td>0.716119</td>\n",
       "      <td>8.517393</td>\n",
       "      <td>12.449023</td>\n",
       "      <td>12.861001</td>\n",
       "      <td>13.329379</td>\n",
       "      <td>2.008840e+01</td>\n",
       "    </tr>\n",
       "    <tr>\n",
       "      <th>loan_to_value</th>\n",
       "      <td>5949706.0</td>\n",
       "      <td>0.832514</td>\n",
       "      <td>0.401449</td>\n",
       "      <td>0.000737</td>\n",
       "      <td>0.771429</td>\n",
       "      <td>0.859649</td>\n",
       "      <td>0.957895</td>\n",
       "      <td>3.608282e+02</td>\n",
       "    </tr>\n",
       "    <tr>\n",
       "      <th>debt_to_income</th>\n",
       "      <td>5949706.0</td>\n",
       "      <td>3267.058779</td>\n",
       "      <td>5192.565736</td>\n",
       "      <td>0.033113</td>\n",
       "      <td>2119.565217</td>\n",
       "      <td>3051.948052</td>\n",
       "      <td>4076.923077</td>\n",
       "      <td>6.135000e+06</td>\n",
       "    </tr>\n",
       "  </tbody>\n",
       "</table>\n",
       "</div>"
      ],
      "text/plain": [
       "                          count           mean            std          min  \\\n",
       "application_approved  5949706.0       1.000000       0.000000     1.000000   \n",
       "income                5949706.0     569.908027    9434.538715     1.000000   \n",
       "loan_amount           5949706.0  410365.150816  446790.592685  5000.000000   \n",
       "property_value        5949706.0  528470.337862  625066.008273  5000.000000   \n",
       "loan_term             5949706.0     349.804881      41.540383     1.000000   \n",
       "interest_rate         5949706.0       4.167932      27.512630     0.001000   \n",
       "income_log            5949706.0       4.789633       0.813742     0.693147   \n",
       "loan_amount_log       5949706.0      12.672197       0.728853     8.517393   \n",
       "property_value_log    5949706.0      12.898053       0.716119     8.517393   \n",
       "loan_to_value         5949706.0       0.832514       0.401449     0.000737   \n",
       "debt_to_income        5949706.0    3267.058779    5192.565736     0.033113   \n",
       "\n",
       "                                25%            50%            75%  \\\n",
       "application_approved       1.000000       1.000000       1.000000   \n",
       "income                    73.000000     110.000000     171.000000   \n",
       "loan_amount           215000.000000  325000.000000  495000.000000   \n",
       "property_value        255000.000000  385000.000000  615000.000000   \n",
       "loan_term                360.000000     360.000000     360.000000   \n",
       "interest_rate              3.125000       3.875000       4.750000   \n",
       "income_log                 4.304065       4.709530       5.147494   \n",
       "loan_amount_log           12.278398      12.691584      13.112315   \n",
       "property_value_log        12.449023      12.861001      13.329379   \n",
       "loan_to_value              0.771429       0.859649       0.957895   \n",
       "debt_to_income          2119.565217    3051.948052    4076.923077   \n",
       "\n",
       "                               max  \n",
       "application_approved  1.000000e+00  \n",
       "income                1.197064e+07  \n",
       "loan_amount           5.250050e+08  \n",
       "property_value        5.300050e+08  \n",
       "loan_term             3.360000e+03  \n",
       "interest_rate         4.387500e+04  \n",
       "income_log            1.629797e+01  \n",
       "loan_amount_log       2.007892e+01  \n",
       "property_value_log    2.008840e+01  \n",
       "loan_to_value         3.608282e+02  \n",
       "debt_to_income        6.135000e+06  "
      ]
     },
     "execution_count": 14,
     "metadata": {},
     "output_type": "execute_result"
    }
   ],
   "source": [
    "df.describe().T"
   ]
  },
  {
   "cell_type": "code",
   "execution_count": 15,
   "metadata": {},
   "outputs": [],
   "source": [
    "def plot_distribution(df):\n",
    "    \"\"\"Plot distribution charts for all float columns in the DataFrame.\n",
    "\n",
    "    Args:\n",
    "        df (pandas DataFrame): Input DataFrame\n",
    "    \"\"\"\n",
    "    import matplotlib.pyplot as plt\n",
    "    # Select only float columns\n",
    "    float_cols = df.select_dtypes(include=['float'])\n",
    "\n",
    "    # Plot distribution for each float column\n",
    "    for col in float_cols.columns:\n",
    "        plt.figure(figsize=(8, 6))\n",
    "        # Calculate number of bins dynamically\n",
    "        min_val = df[col].min()\n",
    "        max_val = df[col].max()\n",
    "        num_bins = min(10, max_val - min_val)  # Limiting to 20 bins or the range of the data\n",
    "        plt.hist(df[col], bins=num_bins, range=(min_val, max_val), color='skyblue', edgecolor='black')\n",
    "        plt.title(f'Distribution of {col}')\n",
    "        plt.xlabel(col)\n",
    "        plt.ylabel('Frequency')\n",
    "        plt.grid(True)\n",
    "        plt.show()\n"
   ]
  },
  {
   "cell_type": "code",
   "execution_count": 16,
   "metadata": {},
   "outputs": [
    {
     "data": {
      "image/png": "[encoded data removed]",
      "text/plain": [
       "<Figure size 576x432 with 1 Axes>"
      ]
     },
     "metadata": {
      "needs_background": "light"
     },
     "output_type": "display_data"
    },
    {
     "data": {
      "image/png": "[encoded data removed]",
      "text/plain": [
       "<Figure size 576x432 with 1 Axes>"
      ]
     },
     "metadata": {
      "needs_background": "light"
     },
     "output_type": "display_data"
    },
    {
     "data": {
      "image/png": "[encoded data removed]",
      "text/plain": [
       "<Figure size 576x432 with 1 Axes>"
      ]
     },
     "metadata": {
      "needs_background": "light"
     },
     "output_type": "display_data"
    },
    {
     "data": {
      "image/png": "[encoded data removed]",
      "text/plain": [
       "<Figure size 576x432 with 1 Axes>"
      ]
     },
     "metadata": {
      "needs_background": "light"
     },
     "output_type": "display_data"
    },
    {
     "data": {
      "image/png": "[encoded data removed]",
      "text/plain": [
       "<Figure size 576x432 with 1 Axes>"
      ]
     },
     "metadata": {
      "needs_background": "light"
     },
     "output_type": "display_data"
    },
    {
     "data": {
      "image/png": "[encoded data removed]",
      "text/plain": [
       "<Figure size 576x432 with 1 Axes>"
      ]
     },
     "metadata": {
      "needs_background": "light"
     },
     "output_type": "display_data"
    },
    {
     "data": {
      "image/png": "[encoded data removed]",
      "text/plain": [
       "<Figure size 576x432 with 1 Axes>"
      ]
     },
     "metadata": {
      "needs_background": "light"
     },
     "output_type": "display_data"
    },
    {
     "data": {
      "image/png": "[encoded data removed]",
      "text/plain": [
       "<Figure size 576x432 with 1 Axes>"
      ]
     },
     "metadata": {
      "needs_background": "light"
     },
     "output_type": "display_data"
    },
    {
     "data": {
      "image/png": "[encoded data removed]",
      "text/plain": [
       "<Figure size 576x432 with 1 Axes>"
      ]
     },
     "metadata": {
      "needs_background": "light"
     },
     "output_type": "display_data"
    },
    {
     "data": {
      "image/png": "[encoded data removed]",
      "text/plain": [
       "<Figure size 576x432 with 1 Axes>"
      ]
     },
     "metadata": {
      "needs_background": "light"
     },
     "output_type": "display_data"
    }
   ],
   "source": [
    "plot_distribution(df)"
   ]
  },
  {
   "cell_type": "code",
   "execution_count": 17,
   "metadata": {},
   "outputs": [],
   "source": [
    "\n",
    "data_encoded = pd.get_dummies(df, columns=['race_ethnicity', 'state_code', 'activity_year' ,'occupancy_type','county_code', 'derived_sex','applicant_age' ], drop_first=True)\n"
   ]
  },
  {
   "cell_type": "code",
   "execution_count": 20,
   "metadata": {},
   "outputs": [],
   "source": [
    "data_encoded_ref = pd.get_dummies(df, columns=['race_ethnicity', 'state_code', 'activity_year' ,'occupancy_type','county_code', 'derived_sex','applicant_age' ], drop_first=False)"
   ]
  },
  {
   "cell_type": "code",
   "execution_count": 18,
   "metadata": {},
   "outputs": [
    {
     "data": {
      "text/plain": [
       "544"
      ]
     },
     "execution_count": 18,
     "metadata": {},
     "output_type": "execute_result"
    }
   ],
   "source": [
    "len(data_encoded.columns)"
   ]
  },
  {
   "cell_type": "code",
   "execution_count": 19,
   "metadata": {},
   "outputs": [
    {
     "data": {
      "text/plain": [
       "Index(['application_approved', 'income', 'loan_amount', 'property_value',\n",
       "       'loan_term', 'interest_rate', 'income_log', 'loan_amount_log',\n",
       "       'property_value_log', 'loan_to_value',\n",
       "       ...\n",
       "       'derived_sex_Male', 'derived_sex_Sex Not Available',\n",
       "       'applicant_age_25-34', 'applicant_age_35-44', 'applicant_age_45-54',\n",
       "       'applicant_age_55-64', 'applicant_age_65-74', 'applicant_age_9999',\n",
       "       'applicant_age_<25', 'applicant_age_>74'],\n",
       "      dtype='object', length=544)"
      ]
     },
     "execution_count": 19,
     "metadata": {},
     "output_type": "execute_result"
    }
   ],
   "source": [
    "data_encoded.columns"
   ]
  },
  {
   "cell_type": "code",
   "execution_count": 21,
   "metadata": {},
   "outputs": [
    {
     "data": {
      "text/plain": [
       "Index(['application_approved', 'income', 'loan_amount', 'property_value',\n",
       "       'loan_term', 'interest_rate', 'income_log', 'loan_amount_log',\n",
       "       'property_value_log', 'loan_to_value',\n",
       "       ...\n",
       "       'derived_sex_Sex Not Available', 'applicant_age_-99',\n",
       "       'applicant_age_25-34', 'applicant_age_35-44', 'applicant_age_45-54',\n",
       "       'applicant_age_55-64', 'applicant_age_65-74', 'applicant_age_9999',\n",
       "       'applicant_age_<25', 'applicant_age_>74'],\n",
       "      dtype='object', length=551)"
      ]
     },
     "execution_count": 21,
     "metadata": {},
     "output_type": "execute_result"
    }
   ],
   "source": [
    "data_encoded_ref.columns"
   ]
  },
  {
   "cell_type": "code",
   "execution_count": 22,
   "metadata": {},
   "outputs": [
    {
     "data": {
      "text/plain": [
       "Index(['activity_year_2018', 'applicant_age_-99', 'county_code_00170',\n",
       "       'derived_sex_Female', 'occupancy_type_Investment',\n",
       "       'race_ethnicity_2 or more minority races|Ethnicity Not Available',\n",
       "       'state_code_CA'],\n",
       "      dtype='object')"
      ]
     },
     "execution_count": 22,
     "metadata": {},
     "output_type": "execute_result"
    }
   ],
   "source": [
    "# Reference Columns\n",
    "columns_only_in_df1 = data_encoded_ref.columns.difference(data_encoded.columns)\n",
    "columns_only_in_df1"
   ]
  },
  {
   "cell_type": "code",
   "execution_count": 25,
   "metadata": {},
   "outputs": [],
   "source": [
    "df.to_parquet(parent_dir + \"\\df_small.parquet\")\n",
    "data_encoded.to_parquet(parent_dir + \"\\df_small_encoded.parquet\")"
   ]
  }
 ],
 "metadata": {
  "kernelspec": {
   "display_name": "cse_6242",
   "language": "python",
   "name": "python3"
  },
  "language_info": {
   "codemirror_mode": {
    "name": "ipython",
    "version": 3
   },
   "file_extension": ".py",
   "mimetype": "text/x-python",
   "name": "python",
   "nbconvert_exporter": "python",
   "pygments_lexer": "ipython3",
   "version": "3.9.12"
  }
 },
 "nbformat": 4,
 "nbformat_minor": 2
}
