{
 "cells": [
  {
   "cell_type": "code",
   "execution_count": 190,
   "metadata": {},
   "outputs": [],
   "source": [
    "import pandas as pd\n",
    "import seaborn as sns\n",
    "import matplotlib.pyplot as plt\n",
    "import numpy as np\n",
    "import os"
   ]
  },
  {
   "cell_type": "markdown",
   "metadata": {},
   "source": [
    "## Read Data For WA, NY, TX, CA and from 2018 to 2022"
   ]
  },
  {
   "cell_type": "code",
   "execution_count": 191,
   "metadata": {},
   "outputs": [],
   "source": [
    "# Navigate up one level from the current directory\n",
    "parent_dir = os.path.dirname(os.getcwd())\n",
    "\n",
    "# Define the relative path to the Parquet file from the parent directory\n",
    "relative_path = r\"analyticsDF.parquet\"\n",
    "\n",
    "# Concatenate the parent directory path and the relative path to get the full path\n",
    "full_path = os.path.join(parent_dir, relative_path)"
   ]
  },
  {
   "cell_type": "code",
   "execution_count": 192,
   "metadata": {},
   "outputs": [],
   "source": [
    "df = pd.read_parquet(full_path)"
   ]
  },
  {
   "cell_type": "code",
   "execution_count": 193,
   "metadata": {},
   "outputs": [],
   "source": [
    "#df.info(verbose = True, show_counts=True)"
   ]
  },
  {
   "cell_type": "code",
   "execution_count": 194,
   "metadata": {},
   "outputs": [
    {
     "data": {
      "text/plain": [
       "9712778"
      ]
     },
     "execution_count": 194,
     "metadata": {},
     "output_type": "execute_result"
    }
   ],
   "source": [
    "# size of dataset\n",
    "len(df)"
   ]
  },
  {
   "cell_type": "code",
   "execution_count": 195,
   "metadata": {},
   "outputs": [
    {
     "data": {
      "text/plain": [
       "Index(['activity_year', 'lei', 'derived_msa_md', 'state_code', 'county_code',\n",
       "       'census_tract', 'conforming_loan_limit', 'derived_loan_product_type',\n",
       "       'derived_dwelling_category', 'derived_ethnicity', 'derived_race',\n",
       "       'derived_sex', 'action_taken', 'purchaser_type', 'preapproval',\n",
       "       'loan_type', 'loan_purpose', 'lien_status', 'reverse_mortgage',\n",
       "       'open_end_line_of_credit', 'business_or_commercial_purpose',\n",
       "       'loan_amount', 'combined_loan_to_value_ratio', 'interest_rate',\n",
       "       'rate_spread', 'hoepa_status', 'total_loan_costs',\n",
       "       'total_points_and_fees', 'origination_charges', 'discount_points',\n",
       "       'lender_credits', 'loan_term', 'prepayment_penalty_term',\n",
       "       'intro_rate_period', 'negative_amortization', 'interest_only_payment',\n",
       "       'balloon_payment', 'other_nonamortizing_features', 'property_value',\n",
       "       'construction_method', 'occupancy_type', 'total_units',\n",
       "       'multifamily_affordable_units', 'income', 'debt_to_income_ratio',\n",
       "       'applicant_credit_score_type', 'co_applicant_credit_score_type',\n",
       "       'applicant_age', 'co_applicant_age', 'applicant_age_above_62',\n",
       "       'co_applicant_age_above_62', 'aus_1', 'aus_2', 'aus_3', 'aus_4',\n",
       "       'aus_5', 'tract_population', 'tract_minority_population_percent',\n",
       "       'ffiec_msa_md_median_family_income', 'tract_to_msa_income_percentage',\n",
       "       'tract_owner_occupied_units', 'tract_one_to_four_family_homes',\n",
       "       'tract_median_age_of_housing_units', 'total_units_val',\n",
       "       'debt_to_income_ratio_val', 'applicant_ethnicitys',\n",
       "       'co_applicant_ethnicitys', 'applicant_races', 'co_applicant_races',\n",
       "       'denial_reasons'],\n",
       "      dtype='object')"
      ]
     },
     "execution_count": 195,
     "metadata": {},
     "output_type": "execute_result"
    }
   ],
   "source": [
    "df.columns"
   ]
  },
  {
   "cell_type": "code",
   "execution_count": 196,
   "metadata": {},
   "outputs": [],
   "source": [
    "df = df.loc[df['county_code'].astype(str).str.startswith(('53', '36', '48'))]"
   ]
  },
  {
   "cell_type": "code",
   "execution_count": 197,
   "metadata": {},
   "outputs": [
    {
     "data": {
      "text/plain": [
       "6319234"
      ]
     },
     "execution_count": 197,
     "metadata": {},
     "output_type": "execute_result"
    }
   ],
   "source": [
    "# size of dataset\n",
    "len(df)"
   ]
  },
  {
   "cell_type": "markdown",
   "metadata": {},
   "source": [
    "## Drop rows due to inconclusive dependent variable"
   ]
  },
  {
   "cell_type": "code",
   "execution_count": 198,
   "metadata": {},
   "outputs": [
    {
     "data": {
      "text/plain": [
       "5360389"
      ]
     },
     "execution_count": 198,
     "metadata": {},
     "output_type": "execute_result"
    }
   ],
   "source": [
    "# Values:\n",
    "\n",
    "#     1 - 1 Loan originated\n",
    "#     2 - 1 Application approved but not accepted\n",
    "#     3 - 0 Application denied\n",
    "#     4 - *drop* Application withdrawn by applicant\n",
    "#     5 - *drop* File closed for incompleteness\n",
    "#     6 - 1 Purchased loan\n",
    "#     7 - 0 Preapproval request denied\n",
    "#     8 - 1 Preapproval request approved but not accepted\n",
    "\n",
    "selected = df.loc[:, 'action_taken'].isin(['4', '5'])\n",
    "df = df[~selected]\n",
    "len(df)"
   ]
  },
  {
   "cell_type": "code",
   "execution_count": 199,
   "metadata": {},
   "outputs": [],
   "source": [
    "# Create dependate binary variable\n",
    "\n",
    "accepted_selected = df.loc[:, 'action_taken'].isin(['1', '2', '6', '8'])\n",
    "df.loc[:, 'application_approved'] = 0  # Default value is 0\n",
    "\n",
    "# Update rows where accepted_selected is True\n",
    "df.loc[accepted_selected, 'application_approved'] = 1"
   ]
  },
  {
   "cell_type": "code",
   "execution_count": 200,
   "metadata": {},
   "outputs": [
    {
     "data": {
      "text/plain": [
       "application_approved\n",
       "1    4815949\n",
       "0     544440\n",
       "Name: count, dtype: int64"
      ]
     },
     "execution_count": 200,
     "metadata": {},
     "output_type": "execute_result"
    }
   ],
   "source": [
    "df.application_approved.value_counts()"
   ]
  },
  {
   "cell_type": "markdown",
   "metadata": {},
   "source": [
    "## Cleaning Features"
   ]
  },
  {
   "cell_type": "code",
   "execution_count": 201,
   "metadata": {},
   "outputs": [
    {
     "data": {
      "text/plain": [
       "45"
      ]
     },
     "execution_count": 201,
     "metadata": {},
     "output_type": "execute_result"
    }
   ],
   "source": [
    "#conbination of race and ethinicty to no leave out hispanic or latino\n",
    "\n",
    "df['race_ethnicity'] = df['derived_race'].str.cat(df['derived_ethnicity'], sep='|')\n",
    "\n",
    "# how many categroies were created\n",
    "len(df.race_ethnicity.value_counts(dropna=False))"
   ]
  },
  {
   "cell_type": "markdown",
   "metadata": {},
   "source": [
    "### Keep Columns of Interest"
   ]
  },
  {
   "cell_type": "code",
   "execution_count": 202,
   "metadata": {},
   "outputs": [],
   "source": [
    "# Keep columns of interest\n",
    "df = df.loc[:, ['application_approved', 'race_ethnicity','county_code', 'derived_sex', 'income', 'applicant_age', 'loan_amount', 'property_value', 'loan_term', 'interest_rate', 'state_code', 'activity_year', 'occupancy_type','denial_reasons']]"
   ]
  },
  {
   "cell_type": "code",
   "execution_count": 203,
   "metadata": {},
   "outputs": [
    {
     "name": "stdout",
     "output_type": "stream",
     "text": [
      "Summary of blanks per column:\n",
      "application_approved: 0\n",
      "race_ethnicity: 0\n",
      "county_code: 0\n",
      "derived_sex: 0\n",
      "income: 767051\n",
      "applicant_age: 0\n",
      "loan_amount: 0\n",
      "property_value: 108286\n",
      "loan_term: 13850\n",
      "interest_rate: 570667\n",
      "state_code: 0\n",
      "activity_year: 0\n",
      "occupancy_type: 0\n",
      "denial_reasons: 0\n"
     ]
    }
   ],
   "source": [
    "\n",
    "blank_counts = df.isna().sum()\n",
    "\n",
    "# Get total number of rows\n",
    "total_rows = len(df)\n",
    "\n",
    "# Show summary\n",
    "print(\"Summary of blanks per column:\")\n",
    "for column, blank_count in blank_counts.items():\n",
    "    print(f\"{column}: {blank_count}\")\n"
   ]
  },
  {
   "cell_type": "code",
   "execution_count": 204,
   "metadata": {},
   "outputs": [
    {
     "data": {
      "text/plain": [
       "Index(['application_approved', 'race_ethnicity', 'county_code', 'derived_sex',\n",
       "       'income', 'applicant_age', 'loan_amount', 'property_value', 'loan_term',\n",
       "       'interest_rate', 'state_code', 'activity_year', 'occupancy_type',\n",
       "       'denial_reasons'],\n",
       "      dtype='object')"
      ]
     },
     "execution_count": 204,
     "metadata": {},
     "output_type": "execute_result"
    }
   ],
   "source": [
    "df.columns"
   ]
  },
  {
   "cell_type": "code",
   "execution_count": 205,
   "metadata": {},
   "outputs": [
    {
     "data": {
      "text/plain": [
       "application_approved\n",
       "1    4815949\n",
       "0     544440\n",
       "Name: count, dtype: int64"
      ]
     },
     "execution_count": 205,
     "metadata": {},
     "output_type": "execute_result"
    }
   ],
   "source": [
    "df.application_approved.value_counts()"
   ]
  },
  {
   "cell_type": "code",
   "execution_count": 206,
   "metadata": {},
   "outputs": [
    {
     "data": {
      "text/plain": [
       "array(['Male', 'Female', 'Joint', 'Sex Not Available'], dtype=object)"
      ]
     },
     "execution_count": 206,
     "metadata": {},
     "output_type": "execute_result"
    }
   ],
   "source": [
    "df.derived_sex.unique()"
   ]
  },
  {
   "cell_type": "code",
   "execution_count": 207,
   "metadata": {},
   "outputs": [],
   "source": [
    "df['derived_sex'] = df['derived_sex'].replace({'Sex Not Available': 'Missing'})"
   ]
  },
  {
   "cell_type": "code",
   "execution_count": 208,
   "metadata": {},
   "outputs": [
    {
     "data": {
      "text/plain": [
       "array(['Race Not Available|Hispanic or Latino',\n",
       "       'Race Not Available|Ethnicity Not Available',\n",
       "       'White|Ethnicity Not Available', 'Asian|Not Hispanic or Latino',\n",
       "       'White|Not Hispanic or Latino',\n",
       "       'Black or African American|Not Hispanic or Latino',\n",
       "       'Race Not Available|Not Hispanic or Latino',\n",
       "       'Asian|Ethnicity Not Available', 'White|Hispanic or Latino',\n",
       "       'American Indian or Alaska Native|Ethnicity Not Available',\n",
       "       'Black or African American|Ethnicity Not Available',\n",
       "       'Joint|Not Hispanic or Latino', 'White|Joint', 'Joint|Joint',\n",
       "       'Race Not Available|Joint',\n",
       "       '2 or more minority races|Ethnicity Not Available',\n",
       "       'Native Hawaiian or Other Pacific Islander|Not Hispanic or Latino',\n",
       "       'Joint|Ethnicity Not Available', 'Black or African American|Joint',\n",
       "       'Asian|Hispanic or Latino', 'Joint|Hispanic or Latino',\n",
       "       'American Indian or Alaska Native|Hispanic or Latino',\n",
       "       'American Indian or Alaska Native|Not Hispanic or Latino',\n",
       "       'Black or African American|Hispanic or Latino', 'Asian|Joint',\n",
       "       '2 or more minority races|Not Hispanic or Latino',\n",
       "       'Native Hawaiian or Other Pacific Islander|Hispanic or Latino',\n",
       "       '2 or more minority races|Hispanic or Latino',\n",
       "       '2 or more minority races|Joint',\n",
       "       'American Indian or Alaska Native|Joint',\n",
       "       'Native Hawaiian or Other Pacific Islander|Ethnicity Not Available',\n",
       "       'Native Hawaiian or Other Pacific Islander|Joint',\n",
       "       'Free Form Text Only|Hispanic or Latino',\n",
       "       'White|Free Form Text Only', 'Asian|Free Form Text Only',\n",
       "       'Black or African American|Free Form Text Only',\n",
       "       'Free Form Text Only|Joint',\n",
       "       'Race Not Available|Free Form Text Only',\n",
       "       'Joint|Free Form Text Only',\n",
       "       'Free Form Text Only|Free Form Text Only',\n",
       "       'Free Form Text Only|Not Hispanic or Latino',\n",
       "       '2 or more minority races|Free Form Text Only',\n",
       "       'American Indian or Alaska Native|Free Form Text Only',\n",
       "       'Free Form Text Only|Ethnicity Not Available',\n",
       "       'Native Hawaiian or Other Pacific Islander|Free Form Text Only'],\n",
       "      dtype=object)"
      ]
     },
     "execution_count": 208,
     "metadata": {},
     "output_type": "execute_result"
    }
   ],
   "source": [
    "df.race_ethnicity.unique()"
   ]
  },
  {
   "cell_type": "code",
   "execution_count": 209,
   "metadata": {},
   "outputs": [],
   "source": [
    "df['race_ethnicity'] = df['race_ethnicity'].replace({'Race Not Available|Hispanic or Latino': 'Hispanic or Latino',\n",
    "'Race Not Available|Ethnicity Not Available': 'Missing',\n",
    "'White|Ethnicity Not Available': 'White',\n",
    "'Asian|Not Hispanic or Latino': 'Asian',\n",
    "'White|Not Hispanic or Latino': 'White',\n",
    "'Black or African American|Not Hispanic or Latino': 'African American',\n",
    "'Race Not Available|Not Hispanic or Latino': 'Other',\n",
    "'Joint|Not Hispanic or Latino': 'Joint', \n",
    "'White|Hispanic or Latino': 'Hispanic or Latino',\n",
    "'Asian|Ethnicity Not Available': 'Asian',\n",
    "'American Indian or Alaska Native|Ethnicity Not Available': 'Native American',\n",
    "'Black or African American|Ethnicity Not Available': 'African American', \n",
    "'White|Joint': 'Joint',\n",
    "'Joint|Joint': 'Joint', \n",
    "'Race Not Available|Joint': 'Joint',\n",
    "'2 or more minority races|Ethnicity Not Available': 'Other',\n",
    "'Native Hawaiian or Other Pacific Islander|Not Hispanic or Latino': 'Pacific Islander',\n",
    "'Asian|Joint': 'Joint', \n",
    "'2 or more minority races|Not Hispanic or Latino': 'Other',\n",
    "'2 or more minority races|Hispanic or Latino': 'Hispanic or Latino',\n",
    "'Joint|Ethnicity Not Available': 'Joint', \n",
    "'Black or African American|Joint': 'Joint',\n",
    "'Asian|Hispanic or Latino': 'Hispanic or Latino',\n",
    "'Native Hawaiian or Other Pacific Islander|Ethnicity Not Available': 'Pacific Islander',\n",
    "'Joint|Hispanic or Latino': 'Joint',\n",
    "'American Indian or Alaska Native|Hispanic or Latino': 'Hispanic or Latino',\n",
    "'American Indian or Alaska Native|Not Hispanic or Latino': 'Native American',\n",
    "'Native Hawaiian or Other Pacific Islander|Hispanic or Latino': 'Hispanic or Latino',\n",
    "'Black or African American|Hispanic or Latino': 'Hispanic or Latino',\n",
    "'Native Hawaiian or Other Pacific Islander|Joint': 'Joint',\n",
    "'American Indian or Alaska Native|Joint': 'Joint',\n",
    "'2 or more minority races|Joint': 'Joint',\n",
    "'Free Form Text Only|Hispanic or Latino': 'Hispanic or Latino',\n",
    "'Asian|Free Form Text Only': 'Asian', 'White|Free Form Text Only': 'White',\n",
    "'Free Form Text Only|Joint': 'Joint',\n",
    "'Black or African American|Free Form Text Only': 'African American',\n",
    "'Race Not Available|Free Form Text Only': 'Missing',\n",
    "'Joint|Free Form Text Only': 'Joint',\n",
    "'Free Form Text Only|Free Form Text Only': 'Missing',\n",
    "'Free Form Text Only|Not Hispanic or Latino': 'Missing',\n",
    "'2 or more minority races|Free Form Text Only': 'Other',\n",
    "'American Indian or Alaska Native|Free Form Text Only': 'Native American',\n",
    "'Free Form Text Only|Ethnicity Not Available': 'Missing',\n",
    "'Native Hawaiian or Other Pacific Islander|Free Form Text Only': 'Pacific Islander'})"
   ]
  },
  {
   "cell_type": "code",
   "execution_count": 210,
   "metadata": {},
   "outputs": [
    {
     "data": {
      "text/plain": [
       "array(['Hispanic or Latino', 'Missing', 'White', 'Asian',\n",
       "       'African American', 'Other', 'Native American', 'Joint',\n",
       "       'Pacific Islander'], dtype=object)"
      ]
     },
     "execution_count": 210,
     "metadata": {},
     "output_type": "execute_result"
    }
   ],
   "source": [
    "df['race_ethnicity'].unique()"
   ]
  },
  {
   "cell_type": "code",
   "execution_count": 211,
   "metadata": {},
   "outputs": [
    {
     "data": {
      "text/plain": [
       "array(['35-44', '45-54', '55-64', '25-34', '65-74', '>74', '<25', '-99',\n",
       "       '9999'], dtype=object)"
      ]
     },
     "execution_count": 211,
     "metadata": {},
     "output_type": "execute_result"
    }
   ],
   "source": [
    "df.applicant_age.unique()"
   ]
  },
  {
   "cell_type": "code",
   "execution_count": 212,
   "metadata": {},
   "outputs": [
    {
     "data": {
      "text/plain": [
       "4411209"
      ]
     },
     "execution_count": 212,
     "metadata": {},
     "output_type": "execute_result"
    }
   ],
   "source": [
    "# Remove negative ammounts\n",
    "#fill any nan values in y with 0\n",
    "#df = df[df.loc[:,'state_code']!='CA']\n",
    "\n",
    "df = df.fillna(0)\n",
    "df = df[df.loc[:,'state_code']!='CA']\n",
    "\n",
    "df = df[df.loc[:,'income']>0]\n",
    "df = df[df.loc[:,'applicant_age']!='9999']\n",
    "#Normalized Income\n",
    "\n",
    "# Apply log transformation using numpy's log1p function\n",
    "df['income_log'] = np.log1p(df['income'])\n",
    "\n",
    "# Convert the 'loan_amount' column to float32\n",
    "df['loan_amount'] = df['loan_amount'].astype('float32')\n",
    "\n",
    "# Apply log transformation using numpy's log1p function\n",
    "df['loan_amount_log'] = np.log1p(df['loan_amount'])\n",
    "\n",
    "# Convert the 'loan_amount' column to float32\n",
    "df['property_value'] = df['property_value'].astype('float32')\n",
    "df = df[df.loc[:,'property_value']>0]\n",
    "\n",
    "# Apply log transformation using numpy's log1p function\n",
    "df['property_value_log'] = np.log1p(df['property_value'])\n",
    "\n",
    "df['interest_rate'] = df['interest_rate'].astype('float32')\n",
    "df = df[df['interest_rate']>=0]\n",
    "df = df[df['interest_rate']<20]\n",
    "\n",
    "\n",
    "df['loan_term'] = df['loan_term'].astype('float32')\n",
    "df = df[df['loan_term']>0]\n",
    "df = df[df['loan_term']<1500]\n",
    "\n",
    "#df['loan_to_value'] = df['loan_amount'] / df['property_value'] \n",
    "\n",
    "#df['debt_to_income'] = df['loan_amount'] / df['income'] \n",
    "\n",
    "df.drop(['income', 'loan_amount', 'property_value', 'denial_reasons', 'activity_year'], axis=1, inplace=True) \n",
    "\n",
    "# size of dataset\n",
    "len(df)"
   ]
  },
  {
   "cell_type": "code",
   "execution_count": 213,
   "metadata": {},
   "outputs": [],
   "source": [
    "df.replace([np.inf, -np.inf], 0, inplace=True)"
   ]
  },
  {
   "cell_type": "code",
   "execution_count": 214,
   "metadata": {},
   "outputs": [
    {
     "data": {
      "text/plain": [
       "application_approved\n",
       "1    3935410\n",
       "0     475799\n",
       "Name: count, dtype: int64"
      ]
     },
     "execution_count": 214,
     "metadata": {},
     "output_type": "execute_result"
    }
   ],
   "source": [
    "df.application_approved.value_counts()"
   ]
  },
  {
   "cell_type": "code",
   "execution_count": 215,
   "metadata": {},
   "outputs": [
    {
     "name": "stdout",
     "output_type": "stream",
     "text": [
      "<class 'pandas.core.frame.DataFrame'>\n",
      "Index: 4411209 entries, 0 to 9712775\n",
      "Data columns (total 12 columns):\n",
      " #   Column                Dtype  \n",
      "---  ------                -----  \n",
      " 0   application_approved  int64  \n",
      " 1   race_ethnicity        object \n",
      " 2   county_code           object \n",
      " 3   derived_sex           object \n",
      " 4   applicant_age         object \n",
      " 5   loan_term             float32\n",
      " 6   interest_rate         float32\n",
      " 7   state_code            object \n",
      " 8   occupancy_type        object \n",
      " 9   income_log            float64\n",
      " 10  loan_amount_log       float32\n",
      " 11  property_value_log    float32\n",
      "dtypes: float32(4), float64(1), int64(1), object(6)\n",
      "memory usage: 370.2+ MB\n"
     ]
    }
   ],
   "source": [
    "df.info()"
   ]
  },
  {
   "cell_type": "code",
   "execution_count": 216,
   "metadata": {},
   "outputs": [
    {
     "data": {
      "text/html": [
       "<div>\n",
       "<style scoped>\n",
       "    .dataframe tbody tr th:only-of-type {\n",
       "        vertical-align: middle;\n",
       "    }\n",
       "\n",
       "    .dataframe tbody tr th {\n",
       "        vertical-align: top;\n",
       "    }\n",
       "\n",
       "    .dataframe thead th {\n",
       "        text-align: right;\n",
       "    }\n",
       "</style>\n",
       "<table border=\"1\" class=\"dataframe\">\n",
       "  <thead>\n",
       "    <tr style=\"text-align: right;\">\n",
       "      <th></th>\n",
       "      <th>count</th>\n",
       "      <th>mean</th>\n",
       "      <th>std</th>\n",
       "      <th>min</th>\n",
       "      <th>25%</th>\n",
       "      <th>50%</th>\n",
       "      <th>75%</th>\n",
       "      <th>max</th>\n",
       "    </tr>\n",
       "  </thead>\n",
       "  <tbody>\n",
       "    <tr>\n",
       "      <th>application_approved</th>\n",
       "      <td>4411209.0</td>\n",
       "      <td>0.892139</td>\n",
       "      <td>0.310205</td>\n",
       "      <td>0.000000</td>\n",
       "      <td>1.000000</td>\n",
       "      <td>1.000000</td>\n",
       "      <td>1.000000</td>\n",
       "      <td>1.000000</td>\n",
       "    </tr>\n",
       "    <tr>\n",
       "      <th>loan_term</th>\n",
       "      <td>4411209.0</td>\n",
       "      <td>342.456299</td>\n",
       "      <td>53.178127</td>\n",
       "      <td>1.000000</td>\n",
       "      <td>360.000000</td>\n",
       "      <td>360.000000</td>\n",
       "      <td>360.000000</td>\n",
       "      <td>999.000000</td>\n",
       "    </tr>\n",
       "    <tr>\n",
       "      <th>interest_rate</th>\n",
       "      <td>4411209.0</td>\n",
       "      <td>3.589162</td>\n",
       "      <td>1.773793</td>\n",
       "      <td>0.000000</td>\n",
       "      <td>2.875000</td>\n",
       "      <td>3.690000</td>\n",
       "      <td>4.625000</td>\n",
       "      <td>18.280001</td>\n",
       "    </tr>\n",
       "    <tr>\n",
       "      <th>income_log</th>\n",
       "      <td>4411209.0</td>\n",
       "      <td>4.658558</td>\n",
       "      <td>0.823824</td>\n",
       "      <td>0.693147</td>\n",
       "      <td>4.174387</td>\n",
       "      <td>4.574711</td>\n",
       "      <td>5.017280</td>\n",
       "      <td>19.044835</td>\n",
       "    </tr>\n",
       "    <tr>\n",
       "      <th>loan_amount_log</th>\n",
       "      <td>4411209.0</td>\n",
       "      <td>12.405216</td>\n",
       "      <td>0.803004</td>\n",
       "      <td>8.517393</td>\n",
       "      <td>12.072547</td>\n",
       "      <td>12.449022</td>\n",
       "      <td>12.861001</td>\n",
       "      <td>20.617910</td>\n",
       "    </tr>\n",
       "    <tr>\n",
       "      <th>property_value_log</th>\n",
       "      <td>4411209.0</td>\n",
       "      <td>12.640351</td>\n",
       "      <td>0.705701</td>\n",
       "      <td>8.517393</td>\n",
       "      <td>12.230770</td>\n",
       "      <td>12.628070</td>\n",
       "      <td>13.071073</td>\n",
       "      <td>20.369452</td>\n",
       "    </tr>\n",
       "  </tbody>\n",
       "</table>\n",
       "</div>"
      ],
      "text/plain": [
       "                          count        mean        std       min         25%  \\\n",
       "application_approved  4411209.0    0.892139   0.310205  0.000000    1.000000   \n",
       "loan_term             4411209.0  342.456299  53.178127  1.000000  360.000000   \n",
       "interest_rate         4411209.0    3.589162   1.773793  0.000000    2.875000   \n",
       "income_log            4411209.0    4.658558   0.823824  0.693147    4.174387   \n",
       "loan_amount_log       4411209.0   12.405216   0.803004  8.517393   12.072547   \n",
       "property_value_log    4411209.0   12.640351   0.705701  8.517393   12.230770   \n",
       "\n",
       "                             50%         75%         max  \n",
       "application_approved    1.000000    1.000000    1.000000  \n",
       "loan_term             360.000000  360.000000  999.000000  \n",
       "interest_rate           3.690000    4.625000   18.280001  \n",
       "income_log              4.574711    5.017280   19.044835  \n",
       "loan_amount_log        12.449022   12.861001   20.617910  \n",
       "property_value_log     12.628070   13.071073   20.369452  "
      ]
     },
     "execution_count": 216,
     "metadata": {},
     "output_type": "execute_result"
    }
   ],
   "source": [
    "df.describe().T"
   ]
  },
  {
   "cell_type": "code",
   "execution_count": 217,
   "metadata": {},
   "outputs": [],
   "source": [
    "# Create DataFrames from arrays\n",
    "df_race_ethnicity = pd.DataFrame(df.race_ethnicity.unique(), columns=['race_ethnicity'])\n",
    "df_county_code = pd.DataFrame(df.county_code.unique(), columns=['county_code'])\n",
    "df_derived_sex = pd.DataFrame(df.derived_sex.unique(), columns=['derived_sex'])\n",
    "df_applicant_age = pd.DataFrame(df.applicant_age.unique(), columns=['applicant_age'])\n",
    "df_loan_term = pd.DataFrame(df.loan_term.unique(), columns=['loan_term'])\n",
    "df_state_code = pd.DataFrame(df.state_code.unique(), columns=['state_code'])\n",
    "df_occupancy_type = pd.DataFrame(df.occupancy_type.unique(), columns=['occupancy_type'])\n",
    "\n",
    "\n",
    "\n",
    "# Concatenate DataFrames column-wise\n",
    "concatenated_df = pd.concat([df_race_ethnicity, df_county_code,df_derived_sex,df_applicant_age,df_loan_term,df_state_code,df_occupancy_type], axis=1)\n",
    "concatenated_df.to_csv(parent_dir + \"\\\\unique_options.csv\", index=False)\n"
   ]
  },
  {
   "cell_type": "code",
   "execution_count": 218,
   "metadata": {},
   "outputs": [],
   "source": [
    "def plot_distribution(df):\n",
    "    \"\"\"Plot distribution charts for all float columns in the DataFrame.\n",
    "\n",
    "    Args:\n",
    "        df (pandas DataFrame): Input DataFrame\n",
    "    \"\"\"\n",
    "    import matplotlib.pyplot as plt\n",
    "    # Select only float columns\n",
    "    float_cols = df.select_dtypes(include=['float'])\n",
    "\n",
    "    # Plot distribution for each float column\n",
    "    for col in float_cols.columns:\n",
    "        plt.figure(figsize=(8, 6))\n",
    "        # Calculate number of bins dynamically\n",
    "        min_val = df[col].min()\n",
    "        max_val = df[col].max()\n",
    "        num_bins = min(10, max_val - min_val)  # Limiting to 20 bins or the range of the data\n",
    "        plt.hist(df[col], bins=num_bins, range=(min_val, max_val), color='skyblue', edgecolor='black')\n",
    "        plt.title(f'Distribution of {col}')\n",
    "        plt.xlabel(col)\n",
    "        plt.ylabel('Frequency')\n",
    "        plt.grid(True)\n",
    "        plt.show()\n"
   ]
  },
  {
   "cell_type": "code",
   "execution_count": 219,
   "metadata": {},
   "outputs": [
    {
     "data": {
      "image/png": "[encoded data removed]",
      "text/plain": [
       "<Figure size 800x600 with 1 Axes>"
      ]
     },
     "metadata": {},
     "output_type": "display_data"
    },
    {
     "data": {
      "image/png": "[encoded data removed]",
      "text/plain": [
       "<Figure size 800x600 with 1 Axes>"
      ]
     },
     "metadata": {},
     "output_type": "display_data"
    },
    {
     "data": {
      "image/png": "[encoded data removed]",
      "text/plain": [
       "<Figure size 800x600 with 1 Axes>"
      ]
     },
     "metadata": {},
     "output_type": "display_data"
    },
    {
     "data": {
      "image/png": "[encoded data removed]",
      "text/plain": [
       "<Figure size 800x600 with 1 Axes>"
      ]
     },
     "metadata": {},
     "output_type": "display_data"
    },
    {
     "data": {
      "image/png": "[encoded data removed]",
      "text/plain": [
       "<Figure size 800x600 with 1 Axes>"
      ]
     },
     "metadata": {},
     "output_type": "display_data"
    }
   ],
   "source": [
    "plot_distribution(df)"
   ]
  },
  {
   "cell_type": "code",
   "execution_count": 220,
   "metadata": {},
   "outputs": [],
   "source": [
    "\n",
    "#data_encoded = pd.get_dummies(df, columns=['race_ethnicity','occupancy_type', 'derived_sex','applicant_age' ], drop_first=True)\n",
    "#data_encoded = pd.get_dummies(data_encoded, columns=['state_code'], drop_first=False)\n"
   ]
  },
  {
   "cell_type": "code",
   "execution_count": 221,
   "metadata": {},
   "outputs": [],
   "source": [
    "data_encoded_ref = pd.get_dummies(df, columns=['race_ethnicity','occupancy_type', 'derived_sex','applicant_age' ], drop_first=False)"
   ]
  },
  {
   "cell_type": "code",
   "execution_count": 222,
   "metadata": {},
   "outputs": [
    {
     "data": {
      "text/plain": [
       "32"
      ]
     },
     "execution_count": 222,
     "metadata": {},
     "output_type": "execute_result"
    }
   ],
   "source": [
    "len(data_encoded_ref.columns)"
   ]
  },
  {
   "cell_type": "code",
   "execution_count": 223,
   "metadata": {},
   "outputs": [],
   "source": [
    "#data_encoded.columns"
   ]
  },
  {
   "cell_type": "code",
   "execution_count": 224,
   "metadata": {},
   "outputs": [
    {
     "data": {
      "text/plain": [
       "['application_approved',\n",
       " 'county_code',\n",
       " 'loan_term',\n",
       " 'interest_rate',\n",
       " 'state_code',\n",
       " 'income_log',\n",
       " 'loan_amount_log',\n",
       " 'property_value_log',\n",
       " 'race_ethnicity_African American',\n",
       " 'race_ethnicity_Asian',\n",
       " 'race_ethnicity_Hispanic or Latino',\n",
       " 'race_ethnicity_Joint',\n",
       " 'race_ethnicity_Missing',\n",
       " 'race_ethnicity_Native American',\n",
       " 'race_ethnicity_Other',\n",
       " 'race_ethnicity_Pacific Islander',\n",
       " 'race_ethnicity_White',\n",
       " 'occupancy_type_Investment',\n",
       " 'occupancy_type_Principal Residence',\n",
       " 'occupancy_type_Second Residence',\n",
       " 'derived_sex_Female',\n",
       " 'derived_sex_Joint',\n",
       " 'derived_sex_Male',\n",
       " 'derived_sex_Missing',\n",
       " 'applicant_age_-99',\n",
       " 'applicant_age_25-34',\n",
       " 'applicant_age_35-44',\n",
       " 'applicant_age_45-54',\n",
       " 'applicant_age_55-64',\n",
       " 'applicant_age_65-74',\n",
       " 'applicant_age_<25',\n",
       " 'applicant_age_>74']"
      ]
     },
     "execution_count": 224,
     "metadata": {},
     "output_type": "execute_result"
    }
   ],
   "source": [
    "list(data_encoded_ref.columns)"
   ]
  },
  {
   "cell_type": "code",
   "execution_count": 225,
   "metadata": {},
   "outputs": [],
   "source": [
    "# Reference Columns\n",
    "# columns_only_in_df1 = data_encoded_ref.columns.difference(data_encoded.columns)\n",
    "# columns_only_in_df1"
   ]
  },
  {
   "cell_type": "code",
   "execution_count": 226,
   "metadata": {},
   "outputs": [
    {
     "data": {
      "text/plain": [
       "0.694295690394938"
      ]
     },
     "execution_count": 226,
     "metadata": {},
     "output_type": "execute_result"
    }
   ],
   "source": [
    "data_encoded_ref.memory_usage(deep=True).sum()/ (1024 ** 3)"
   ]
  },
  {
   "cell_type": "code",
   "execution_count": 227,
   "metadata": {},
   "outputs": [
    {
     "name": "stderr",
     "output_type": "stream",
     "text": [
      "<>:1: SyntaxWarning: invalid escape sequence '\\d'\n",
      "<>:2: SyntaxWarning: invalid escape sequence '\\d'\n",
      "<>:1: SyntaxWarning: invalid escape sequence '\\d'\n",
      "<>:2: SyntaxWarning: invalid escape sequence '\\d'\n",
      "C:\\Users\\Forcessofnature\\AppData\\Local\\Temp\\ipykernel_39592\\604174582.py:1: SyntaxWarning: invalid escape sequence '\\d'\n",
      "  df.to_parquet(parent_dir + \"\\df_small.parquet\")\n",
      "C:\\Users\\Forcessofnature\\AppData\\Local\\Temp\\ipykernel_39592\\604174582.py:2: SyntaxWarning: invalid escape sequence '\\d'\n",
      "  data_encoded_ref.to_parquet(parent_dir + \"\\df_small_encoded.parquet\")\n"
     ]
    }
   ],
   "source": [
    "df.to_parquet(parent_dir + \"\\\\df_small.parquet\")\n",
    "data_encoded_ref.to_parquet(parent_dir + \"\\\\df_small_encoded.parquet\")"
   ]
  }
 ],
 "metadata": {
  "kernelspec": {
   "display_name": "cse_6242",
   "language": "python",
   "name": "python3"
  },
  "language_info": {
   "codemirror_mode": {
    "name": "ipython",
    "version": 3
   },
   "file_extension": ".py",
   "mimetype": "text/x-python",
   "name": "python",
   "nbconvert_exporter": "python",
   "pygments_lexer": "ipython3",
   "version": "3.12.0"
  }
 },
 "nbformat": 4,
 "nbformat_minor": 2
}
