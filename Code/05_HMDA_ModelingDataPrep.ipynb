{
 "cells": [
  {
   "cell_type": "code",
   "execution_count": 1,
   "metadata": {},
   "outputs": [],
   "source": [
    "import pandas as pd\n",
    "import seaborn as sns\n",
    "import matplotlib.pyplot as plt\n",
    "import numpy as np\n",
    "import os"
   ]
  },
  {
   "cell_type": "markdown",
   "metadata": {},
   "source": [
    "## Read Data For WA, NY, TX, CA and from 2018 to 2022"
   ]
  },
  {
   "cell_type": "code",
   "execution_count": 2,
   "metadata": {},
   "outputs": [],
   "source": [
    "# Navigate up one level from the current directory\n",
    "parent_dir = os.path.dirname(os.getcwd())\n",
    "\n",
    "# Define the relative path to the Parquet file from the parent directory\n",
    "relative_path = r\"analyticsDF.parquet\"\n",
    "\n",
    "# Concatenate the parent directory path and the relative path to get the full path\n",
    "full_path = os.path.join(parent_dir, relative_path)"
   ]
  },
  {
   "cell_type": "code",
   "execution_count": 3,
   "metadata": {},
   "outputs": [],
   "source": [
    "df = pd.read_parquet(full_path)"
   ]
  },
  {
   "cell_type": "code",
   "execution_count": 4,
   "metadata": {},
   "outputs": [],
   "source": [
    "#df.info(verbose = True, show_counts=True)"
   ]
  },
  {
   "cell_type": "code",
   "execution_count": 5,
   "metadata": {},
   "outputs": [
    {
     "data": {
      "text/plain": [
       "9712778"
      ]
     },
     "execution_count": 5,
     "metadata": {},
     "output_type": "execute_result"
    }
   ],
   "source": [
    "# size of dataset\n",
    "len(df)"
   ]
  },
  {
   "cell_type": "markdown",
   "metadata": {},
   "source": [
    "## Drop rows due to inconclusive dependent variable"
   ]
  },
  {
   "cell_type": "code",
   "execution_count": 6,
   "metadata": {},
   "outputs": [
    {
     "data": {
      "text/plain": [
       "8211413"
      ]
     },
     "execution_count": 6,
     "metadata": {},
     "output_type": "execute_result"
    }
   ],
   "source": [
    "# Values:\n",
    "\n",
    "#     1 - 1 Loan originated\n",
    "#     2 - 1 Application approved but not accepted\n",
    "#     3 - 0 Application denied\n",
    "#     4 - *drop* Application withdrawn by applicant\n",
    "#     5 - *drop* File closed for incompleteness\n",
    "#     6 - 1 Purchased loan\n",
    "#     7 - 0 Preapproval request denied\n",
    "#     8 - 1 Preapproval request approved but not accepted\n",
    "\n",
    "selected = df.loc[:, 'action_taken'].isin(['4', '5'])\n",
    "df = df[~selected]\n",
    "len(df)"
   ]
  },
  {
   "cell_type": "code",
   "execution_count": 7,
   "metadata": {},
   "outputs": [],
   "source": [
    "# Create dependate binary variable\n",
    "\n",
    "accepted_selected = df.loc[:, 'action_taken'].isin(['1', '2', '6', '8'])\n",
    "df.loc[:, 'application_approved'] = 0  # Default value is 0\n",
    "\n",
    "# Update rows where accepted_selected is True\n",
    "df.loc[accepted_selected, 'application_approved'] = 1"
   ]
  },
  {
   "cell_type": "code",
   "execution_count": 8,
   "metadata": {},
   "outputs": [
    {
     "data": {
      "text/plain": [
       "1    7400743\n",
       "0     810670\n",
       "Name: application_approved, dtype: int64"
      ]
     },
     "execution_count": 8,
     "metadata": {},
     "output_type": "execute_result"
    }
   ],
   "source": [
    "df.application_approved.value_counts()"
   ]
  },
  {
   "cell_type": "markdown",
   "metadata": {},
   "source": [
    "## Cleaning Features"
   ]
  },
  {
   "cell_type": "code",
   "execution_count": 9,
   "metadata": {},
   "outputs": [
    {
     "data": {
      "text/plain": [
       "45"
      ]
     },
     "execution_count": 9,
     "metadata": {},
     "output_type": "execute_result"
    }
   ],
   "source": [
    "#conbination of race and ethinicty to no leave out hispanic or latino\n",
    "\n",
    "df['race_ethnicity'] = df['derived_race'].str.cat(df['derived_ethnicity'], sep='|')\n",
    "\n",
    "# how many categroies were created\n",
    "len(df.race_ethnicity.value_counts(dropna=False))"
   ]
  },
  {
   "cell_type": "markdown",
   "metadata": {},
   "source": [
    "### Keep Columns of Interest"
   ]
  },
  {
   "cell_type": "code",
   "execution_count": 10,
   "metadata": {},
   "outputs": [],
   "source": [
    "# Keep columns of interest\n",
    "df = df.loc[:, ['application_approved', 'race_ethnicity','county_code', 'derived_sex', 'income', 'applicant_age', 'loan_amount', 'property_value', 'loan_term', 'interest_rate', 'state_code', 'activity_year', 'occupancy_type','denial_reasons']]"
   ]
  },
  {
   "cell_type": "code",
   "execution_count": 11,
   "metadata": {},
   "outputs": [
    {
     "name": "stdout",
     "output_type": "stream",
     "text": [
      "Summary of blanks per column:\n",
      "application_approved: 0\n",
      "race_ethnicity: 0\n",
      "county_code: 0\n",
      "derived_sex: 0\n",
      "income: 1182053\n",
      "applicant_age: 0\n",
      "loan_amount: 0\n",
      "property_value: 175011\n",
      "loan_term: 22140\n",
      "interest_rate: 857499\n",
      "state_code: 0\n",
      "activity_year: 0\n",
      "occupancy_type: 0\n",
      "denial_reasons: 0\n"
     ]
    }
   ],
   "source": [
    "\n",
    "blank_counts = df.isna().sum()\n",
    "\n",
    "# Get total number of rows\n",
    "total_rows = len(df)\n",
    "\n",
    "# Show summary\n",
    "print(\"Summary of blanks per column:\")\n",
    "for column, blank_count in blank_counts.items():\n",
    "    print(f\"{column}: {blank_count}\")\n"
   ]
  },
  {
   "cell_type": "code",
   "execution_count": 12,
   "metadata": {},
   "outputs": [
    {
     "data": {
      "text/plain": [
       "Index(['application_approved', 'race_ethnicity', 'county_code', 'derived_sex',\n",
       "       'income', 'applicant_age', 'loan_amount', 'property_value', 'loan_term',\n",
       "       'interest_rate', 'state_code', 'activity_year', 'occupancy_type',\n",
       "       'denial_reasons'],\n",
       "      dtype='object')"
      ]
     },
     "execution_count": 12,
     "metadata": {},
     "output_type": "execute_result"
    }
   ],
   "source": [
    "df.columns"
   ]
  },
  {
   "cell_type": "code",
   "execution_count": 13,
   "metadata": {},
   "outputs": [
    {
     "data": {
      "text/plain": [
       "1    7400743\n",
       "0     810670\n",
       "Name: application_approved, dtype: int64"
      ]
     },
     "execution_count": 13,
     "metadata": {},
     "output_type": "execute_result"
    }
   ],
   "source": [
    "df.application_approved.value_counts()"
   ]
  },
  {
   "cell_type": "code",
   "execution_count": 14,
   "metadata": {},
   "outputs": [
    {
     "data": {
      "text/plain": [
       "8081760"
      ]
     },
     "execution_count": 14,
     "metadata": {},
     "output_type": "execute_result"
    }
   ],
   "source": [
    "# Remove negative ammounts\n",
    "#fill any nan values in y with 0\n",
    "df = df.fillna(0)\n",
    "\n",
    "df = df[df.loc[:,'income']>=0]\n",
    "\n",
    "df = df[df.loc[:,'property_value']>=0]\n",
    "df = df[df['interest_rate']>=0]\n",
    "\n",
    "df = df[df['loan_term']>=0]\n",
    "#Normalized Income\n",
    "\n",
    "# Apply log transformation using numpy's log1p function\n",
    "df['income_log'] = np.log1p(df['income'])\n",
    "\n",
    "# Convert the 'loan_amount' column to float64\n",
    "df['loan_amount'] = df['loan_amount'].astype('float64')\n",
    "\n",
    "# Apply log transformation using numpy's log1p function\n",
    "df['loan_amount_log'] = np.log1p(df['loan_amount'])\n",
    "\n",
    "# Convert the 'loan_amount' column to float64\n",
    "df['property_value'] = df['property_value'].astype('float64')\n",
    "\n",
    "# Apply log transformation using numpy's log1p function\n",
    "df['property_value_log'] = np.log1p(df['property_value'])\n",
    "\n",
    "df['interest_rate'] = df['interest_rate'].astype('float64')\n",
    "\n",
    "df['loan_term'] = df['loan_term'].astype('float64')\n",
    "\n",
    "\n",
    "df['loan_to_value'] = df['loan_amount'] / df['property_value'] \n",
    "\n",
    "df['debt_to_income'] = df['loan_amount'] / df['income'] \n",
    "\n",
    "df.drop(['income', 'loan_amount', 'property_value', 'denial_reasons'], axis=1, inplace=True) \n",
    "\n",
    "# size of dataset\n",
    "len(df)"
   ]
  },
  {
   "cell_type": "code",
   "execution_count": 27,
   "metadata": {},
   "outputs": [],
   "source": [
    "df.replace([np.inf, -np.inf], 0, inplace=True)"
   ]
  },
  {
   "cell_type": "code",
   "execution_count": 28,
   "metadata": {},
   "outputs": [
    {
     "data": {
      "text/plain": [
       "1    7284324\n",
       "0     797436\n",
       "Name: application_approved, dtype: int64"
      ]
     },
     "execution_count": 28,
     "metadata": {},
     "output_type": "execute_result"
    }
   ],
   "source": [
    "df.application_approved.value_counts()"
   ]
  },
  {
   "cell_type": "code",
   "execution_count": 29,
   "metadata": {},
   "outputs": [
    {
     "data": {
      "text/html": [
       "<div>\n",
       "<style scoped>\n",
       "    .dataframe tbody tr th:only-of-type {\n",
       "        vertical-align: middle;\n",
       "    }\n",
       "\n",
       "    .dataframe tbody tr th {\n",
       "        vertical-align: top;\n",
       "    }\n",
       "\n",
       "    .dataframe thead th {\n",
       "        text-align: right;\n",
       "    }\n",
       "</style>\n",
       "<table border=\"1\" class=\"dataframe\">\n",
       "  <thead>\n",
       "    <tr style=\"text-align: right;\">\n",
       "      <th></th>\n",
       "      <th>count</th>\n",
       "      <th>mean</th>\n",
       "      <th>std</th>\n",
       "      <th>min</th>\n",
       "      <th>25%</th>\n",
       "      <th>50%</th>\n",
       "      <th>75%</th>\n",
       "      <th>max</th>\n",
       "    </tr>\n",
       "  </thead>\n",
       "  <tbody>\n",
       "    <tr>\n",
       "      <th>application_approved</th>\n",
       "      <td>8081760.0</td>\n",
       "      <td>0.901329</td>\n",
       "      <td>0.298220</td>\n",
       "      <td>0.000000</td>\n",
       "      <td>1.000000</td>\n",
       "      <td>1.000000</td>\n",
       "      <td>1.000000</td>\n",
       "      <td>1.000000e+00</td>\n",
       "    </tr>\n",
       "    <tr>\n",
       "      <th>loan_term</th>\n",
       "      <td>8081760.0</td>\n",
       "      <td>341.776303</td>\n",
       "      <td>60.522145</td>\n",
       "      <td>0.000000</td>\n",
       "      <td>360.000000</td>\n",
       "      <td>360.000000</td>\n",
       "      <td>360.000000</td>\n",
       "      <td>3.660000e+03</td>\n",
       "    </tr>\n",
       "    <tr>\n",
       "      <th>interest_rate</th>\n",
       "      <td>8081760.0</td>\n",
       "      <td>3.705942</td>\n",
       "      <td>23.659075</td>\n",
       "      <td>0.000000</td>\n",
       "      <td>2.875000</td>\n",
       "      <td>3.750000</td>\n",
       "      <td>4.625000</td>\n",
       "      <td>4.387500e+04</td>\n",
       "    </tr>\n",
       "    <tr>\n",
       "      <th>income_log</th>\n",
       "      <td>8081760.0</td>\n",
       "      <td>4.046799</td>\n",
       "      <td>1.846369</td>\n",
       "      <td>0.000000</td>\n",
       "      <td>3.970292</td>\n",
       "      <td>4.521789</td>\n",
       "      <td>5.017280</td>\n",
       "      <td>1.904484e+01</td>\n",
       "    </tr>\n",
       "    <tr>\n",
       "      <th>loan_amount_log</th>\n",
       "      <td>8081760.0</td>\n",
       "      <td>12.552089</td>\n",
       "      <td>0.939422</td>\n",
       "      <td>8.517393</td>\n",
       "      <td>12.180760</td>\n",
       "      <td>12.628070</td>\n",
       "      <td>13.091906</td>\n",
       "      <td>2.106665e+01</td>\n",
       "    </tr>\n",
       "    <tr>\n",
       "      <th>property_value_log</th>\n",
       "      <td>8081760.0</td>\n",
       "      <td>12.569439</td>\n",
       "      <td>2.017163</td>\n",
       "      <td>0.000000</td>\n",
       "      <td>12.323860</td>\n",
       "      <td>12.807655</td>\n",
       "      <td>13.296318</td>\n",
       "      <td>2.148756e+01</td>\n",
       "    </tr>\n",
       "    <tr>\n",
       "      <th>loan_to_value</th>\n",
       "      <td>8081760.0</td>\n",
       "      <td>0.807775</td>\n",
       "      <td>0.684891</td>\n",
       "      <td>0.000000</td>\n",
       "      <td>0.751412</td>\n",
       "      <td>0.860465</td>\n",
       "      <td>0.962264</td>\n",
       "      <td>8.810000e+02</td>\n",
       "    </tr>\n",
       "    <tr>\n",
       "      <th>debt_to_income</th>\n",
       "      <td>8081760.0</td>\n",
       "      <td>2806.347677</td>\n",
       "      <td>7362.188524</td>\n",
       "      <td>0.000000</td>\n",
       "      <td>1341.463415</td>\n",
       "      <td>2685.950413</td>\n",
       "      <td>3869.047619</td>\n",
       "      <td>9.213824e+06</td>\n",
       "    </tr>\n",
       "  </tbody>\n",
       "</table>\n",
       "</div>"
      ],
      "text/plain": [
       "                          count         mean          std       min  \\\n",
       "application_approved  8081760.0     0.901329     0.298220  0.000000   \n",
       "loan_term             8081760.0   341.776303    60.522145  0.000000   \n",
       "interest_rate         8081760.0     3.705942    23.659075  0.000000   \n",
       "income_log            8081760.0     4.046799     1.846369  0.000000   \n",
       "loan_amount_log       8081760.0    12.552089     0.939422  8.517393   \n",
       "property_value_log    8081760.0    12.569439     2.017163  0.000000   \n",
       "loan_to_value         8081760.0     0.807775     0.684891  0.000000   \n",
       "debt_to_income        8081760.0  2806.347677  7362.188524  0.000000   \n",
       "\n",
       "                              25%          50%          75%           max  \n",
       "application_approved     1.000000     1.000000     1.000000  1.000000e+00  \n",
       "loan_term              360.000000   360.000000   360.000000  3.660000e+03  \n",
       "interest_rate            2.875000     3.750000     4.625000  4.387500e+04  \n",
       "income_log               3.970292     4.521789     5.017280  1.904484e+01  \n",
       "loan_amount_log         12.180760    12.628070    13.091906  2.106665e+01  \n",
       "property_value_log      12.323860    12.807655    13.296318  2.148756e+01  \n",
       "loan_to_value            0.751412     0.860465     0.962264  8.810000e+02  \n",
       "debt_to_income        1341.463415  2685.950413  3869.047619  9.213824e+06  "
      ]
     },
     "execution_count": 29,
     "metadata": {},
     "output_type": "execute_result"
    }
   ],
   "source": [
    "df.describe().T"
   ]
  },
  {
   "cell_type": "code",
   "execution_count": 30,
   "metadata": {},
   "outputs": [],
   "source": [
    "def plot_distribution(df):\n",
    "    \"\"\"Plot distribution charts for all float columns in the DataFrame.\n",
    "\n",
    "    Args:\n",
    "        df (pandas DataFrame): Input DataFrame\n",
    "    \"\"\"\n",
    "    import matplotlib.pyplot as plt\n",
    "    # Select only float columns\n",
    "    float_cols = df.select_dtypes(include=['float'])\n",
    "\n",
    "    # Plot distribution for each float column\n",
    "    for col in float_cols.columns:\n",
    "        plt.figure(figsize=(8, 6))\n",
    "        # Calculate number of bins dynamically\n",
    "        min_val = df[col].min()\n",
    "        max_val = df[col].max()\n",
    "        num_bins = min(10, max_val - min_val)  # Limiting to 20 bins or the range of the data\n",
    "        plt.hist(df[col], bins=num_bins, range=(min_val, max_val), color='skyblue', edgecolor='black')\n",
    "        plt.title(f'Distribution of {col}')\n",
    "        plt.xlabel(col)\n",
    "        plt.ylabel('Frequency')\n",
    "        plt.grid(True)\n",
    "        plt.show()\n"
   ]
  },
  {
   "cell_type": "code",
   "execution_count": 31,
   "metadata": {},
   "outputs": [
    {
     "data": {
      "image/png": "[encoded data removed]",
      "text/plain": [
       "<Figure size 576x432 with 1 Axes>"
      ]
     },
     "metadata": {
      "needs_background": "light"
     },
     "output_type": "display_data"
    },
    {
     "data": {
      "image/png": "[encoded data removed]",
      "text/plain": [
       "<Figure size 576x432 with 1 Axes>"
      ]
     },
     "metadata": {
      "needs_background": "light"
     },
     "output_type": "display_data"
    },
    {
     "data": {
      "image/png": "[encoded data removed]",
      "text/plain": [
       "<Figure size 576x432 with 1 Axes>"
      ]
     },
     "metadata": {
      "needs_background": "light"
     },
     "output_type": "display_data"
    },
    {
     "data": {
      "image/png": "[encoded data removed]",
      "text/plain": [
       "<Figure size 576x432 with 1 Axes>"
      ]
     },
     "metadata": {
      "needs_background": "light"
     },
     "output_type": "display_data"
    },
    {
     "data": {
      "image/png": "[encoded data removed]",
      "text/plain": [
       "<Figure size 576x432 with 1 Axes>"
      ]
     },
     "metadata": {
      "needs_background": "light"
     },
     "output_type": "display_data"
    },
    {
     "data": {
      "image/png": "[encoded data removed]",
      "text/plain": [
       "<Figure size 576x432 with 1 Axes>"
      ]
     },
     "metadata": {
      "needs_background": "light"
     },
     "output_type": "display_data"
    },
    {
     "data": {
      "image/png": "[encoded data removed]",
      "text/plain": [
       "<Figure size 576x432 with 1 Axes>"
      ]
     },
     "metadata": {
      "needs_background": "light"
     },
     "output_type": "display_data"
    }
   ],
   "source": [
    "plot_distribution(df)"
   ]
  },
  {
   "cell_type": "code",
   "execution_count": 32,
   "metadata": {},
   "outputs": [],
   "source": [
    "\n",
    "data_encoded = pd.get_dummies(df, columns=['race_ethnicity', 'state_code', 'activity_year' ,'occupancy_type','county_code', 'derived_sex','applicant_age' ], drop_first=True)\n"
   ]
  },
  {
   "cell_type": "code",
   "execution_count": 33,
   "metadata": {},
   "outputs": [],
   "source": [
    "data_encoded_ref = pd.get_dummies(df, columns=['race_ethnicity', 'state_code', 'activity_year' ,'occupancy_type','county_code', 'derived_sex','applicant_age' ], drop_first=False)"
   ]
  },
  {
   "cell_type": "code",
   "execution_count": 34,
   "metadata": {},
   "outputs": [
    {
     "data": {
      "text/plain": [
       "587"
      ]
     },
     "execution_count": 34,
     "metadata": {},
     "output_type": "execute_result"
    }
   ],
   "source": [
    "len(data_encoded.columns)"
   ]
  },
  {
   "cell_type": "code",
   "execution_count": 35,
   "metadata": {},
   "outputs": [
    {
     "data": {
      "text/plain": [
       "Index(['application_approved', 'loan_term', 'interest_rate', 'income_log',\n",
       "       'loan_amount_log', 'property_value_log', 'loan_to_value',\n",
       "       'debt_to_income',\n",
       "       'race_ethnicity_2 or more minority races|Free Form Text Only',\n",
       "       'race_ethnicity_2 or more minority races|Hispanic or Latino',\n",
       "       ...\n",
       "       'derived_sex_Male', 'derived_sex_Sex Not Available',\n",
       "       'applicant_age_25-34', 'applicant_age_35-44', 'applicant_age_45-54',\n",
       "       'applicant_age_55-64', 'applicant_age_65-74', 'applicant_age_9999',\n",
       "       'applicant_age_<25', 'applicant_age_>74'],\n",
       "      dtype='object', length=587)"
      ]
     },
     "execution_count": 35,
     "metadata": {},
     "output_type": "execute_result"
    }
   ],
   "source": [
    "data_encoded.columns"
   ]
  },
  {
   "cell_type": "code",
   "execution_count": 36,
   "metadata": {},
   "outputs": [
    {
     "data": {
      "text/plain": [
       "Index(['application_approved', 'loan_term', 'interest_rate', 'income_log',\n",
       "       'loan_amount_log', 'property_value_log', 'loan_to_value',\n",
       "       'debt_to_income',\n",
       "       'race_ethnicity_2 or more minority races|Ethnicity Not Available',\n",
       "       'race_ethnicity_2 or more minority races|Free Form Text Only',\n",
       "       ...\n",
       "       'derived_sex_Sex Not Available', 'applicant_age_-99',\n",
       "       'applicant_age_25-34', 'applicant_age_35-44', 'applicant_age_45-54',\n",
       "       'applicant_age_55-64', 'applicant_age_65-74', 'applicant_age_9999',\n",
       "       'applicant_age_<25', 'applicant_age_>74'],\n",
       "      dtype='object', length=594)"
      ]
     },
     "execution_count": 36,
     "metadata": {},
     "output_type": "execute_result"
    }
   ],
   "source": [
    "data_encoded_ref.columns"
   ]
  },
  {
   "cell_type": "code",
   "execution_count": 37,
   "metadata": {},
   "outputs": [
    {
     "data": {
      "text/plain": [
       "Index(['activity_year_2018', 'applicant_age_-99', 'county_code_00037',\n",
       "       'derived_sex_Female', 'occupancy_type_Investment',\n",
       "       'race_ethnicity_2 or more minority races|Ethnicity Not Available',\n",
       "       'state_code_CA'],\n",
       "      dtype='object')"
      ]
     },
     "execution_count": 37,
     "metadata": {},
     "output_type": "execute_result"
    }
   ],
   "source": [
    "# Reference Columns\n",
    "columns_only_in_df1 = data_encoded_ref.columns.difference(data_encoded.columns)\n",
    "columns_only_in_df1"
   ]
  },
  {
   "cell_type": "code",
   "execution_count": 38,
   "metadata": {},
   "outputs": [],
   "source": [
    "df.to_parquet(parent_dir + \"\\df_small.parquet\")\n",
    "data_encoded.to_parquet(parent_dir + \"\\df_small_encoded.parquet\")"
   ]
  },
  {
   "cell_type": "code",
   "execution_count": null,
   "metadata": {},
   "outputs": [],
   "source": []
  }
 ],
 "metadata": {
  "kernelspec": {
   "display_name": "cse_6242",
   "language": "python",
   "name": "python3"
  },
  "language_info": {
   "codemirror_mode": {
    "name": "ipython",
    "version": 3
   },
   "file_extension": ".py",
   "mimetype": "text/x-python",
   "name": "python",
   "nbconvert_exporter": "python",
   "pygments_lexer": "ipython3",
   "version": "3.9.12"
  }
 },
 "nbformat": 4,
 "nbformat_minor": 2
}
