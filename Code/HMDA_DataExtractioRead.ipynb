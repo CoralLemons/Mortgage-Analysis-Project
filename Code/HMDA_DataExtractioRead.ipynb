{
 "cells": [
  {
   "cell_type": "markdown",
   "metadata": {},
   "source": []
  },
  {
   "cell_type": "code",
   "execution_count": 1,
   "metadata": {},
   "outputs": [],
   "source": [
    "import pandas as pd"
   ]
  },
  {
   "cell_type": "code",
   "execution_count": 2,
   "metadata": {},
   "outputs": [
    {
     "name": "stderr",
     "output_type": "stream",
     "text": [
      "C:\\Users\\Forcessofnature\\AppData\\Local\\Temp\\ipykernel_106352\\1335228187.py:1: DtypeWarning: Columns (3,22,23,24,26,27,28,29,30,31,32,33,38,43,44,46,77,78,79,80) have mixed types. Specify dtype option on import or set low_memory=False.\n",
      "  df = pd.read_csv(r\"C:\\Users\\Forcessofnature\\Downloads\\2022_lar\\2022_lar.txt\", sep=\"|\")\n"
     ]
    }
   ],
   "source": [
    "df = pd.read_csv(r\"C:\\Users\\Forcessofnature\\Downloads\\2022_lar\\2022_lar.txt\", sep=\"|\")"
   ]
  },
  {
   "cell_type": "code",
   "execution_count": 3,
   "metadata": {},
   "outputs": [
    {
     "name": "stdout",
     "output_type": "stream",
     "text": [
      "<class 'pandas.core.frame.DataFrame'>\n",
      "RangeIndex: 16090252 entries, 0 to 16090251\n",
      "Data columns (total 99 columns):\n",
      " #   Column                                    Dtype  \n",
      "---  ------                                    -----  \n",
      " 0   activity_year                             int64  \n",
      " 1   lei                                       object \n",
      " 2   derived_msa_md                            int64  \n",
      " 3   state_code                                object \n",
      " 4   county_code                               float64\n",
      " 5   census_tract                              float64\n",
      " 6   conforming_loan_limit                     object \n",
      " 7   derived_loan_product_type                 object \n",
      " 8   derived_dwelling_category                 object \n",
      " 9   derived_ethnicity                         object \n",
      " 10  derived_race                              object \n",
      " 11  derived_sex                               object \n",
      " 12  action_taken                              int64  \n",
      " 13  purchaser_type                            int64  \n",
      " 14  preapproval                               int64  \n",
      " 15  loan_type                                 int64  \n",
      " 16  loan_purpose                              int64  \n",
      " 17  lien_status                               int64  \n",
      " 18  reverse_mortgage                          int64  \n",
      " 19  open_end_line_of_credit                   int64  \n",
      " 20  business_or_commercial_purpose            int64  \n",
      " 21  loan_amount                               int64  \n",
      " 22  combined_loan_to_value_ratio              object \n",
      " 23  interest_rate                             object \n",
      " 24  rate_spread                               object \n",
      " 25  hoepa_status                              int64  \n",
      " 26  total_loan_costs                          object \n",
      " 27  total_points_and_fees                     object \n",
      " 28  origination_charges                       object \n",
      " 29  discount_points                           object \n",
      " 30  lender_credits                            object \n",
      " 31  loan_term                                 object \n",
      " 32  prepayment_penalty_term                   object \n",
      " 33  intro_rate_period                         object \n",
      " 34  negative_amortization                     int64  \n",
      " 35  interest_only_payment                     int64  \n",
      " 36  balloon_payment                           int64  \n",
      " 37  other_nonamortizing_features              int64  \n",
      " 38  property_value                            object \n",
      " 39  construction_method                       int64  \n",
      " 40  occupancy_type                            int64  \n",
      " 41  manufactured_home_secured_property_type   int64  \n",
      " 42  manufactured_home_land_property_interest  int64  \n",
      " 43  total_units                               object \n",
      " 44  multifamily_affordable_units              object \n",
      " 45  income                                    float64\n",
      " 46  debt_to_income_ratio                      object \n",
      " 47  applicant_credit_score_type               int64  \n",
      " 48  co_applicant_credit_score_type            int64  \n",
      " 49  applicant_ethnicity_1                     float64\n",
      " 50  applicant_ethnicity_2                     float64\n",
      " 51  applicant_ethnicity_3                     float64\n",
      " 52  applicant_ethnicity_4                     float64\n",
      " 53  applicant_ethnicity_5                     float64\n",
      " 54  co_applicant_ethnicity_1                  float64\n",
      " 55  co_applicant_ethnicity_2                  float64\n",
      " 56  co_applicant_ethnicity_3                  float64\n",
      " 57  co_applicant_ethnicity_4                  float64\n",
      " 58  co_applicant_ethnicity_5                  float64\n",
      " 59  applicant_ethnicity_observed              int64  \n",
      " 60  co_applicant_ethnicity_observed           int64  \n",
      " 61  applicant_race_1                          float64\n",
      " 62  applicant_race_2                          float64\n",
      " 63  applicant_race_3                          float64\n",
      " 64  applicant_race_4                          float64\n",
      " 65  applicant_race_5                          float64\n",
      " 66  co_applicant_race_1                       float64\n",
      " 67  co_applicant_race_2                       float64\n",
      " 68  co_applicant_race_3                       float64\n",
      " 69  co_applicant_race_4                       float64\n",
      " 70  co_applicant_race_5                       float64\n",
      " 71  applicant_race_observed                   int64  \n",
      " 72  co_applicant_race_observed                int64  \n",
      " 73  applicant_sex                             int64  \n",
      " 74  co_applicant_sex                          int64  \n",
      " 75  applicant_sex_observed                    int64  \n",
      " 76  co_applicant_sex_observed                 int64  \n",
      " 77  applicant_age                             object \n",
      " 78  co_applicant_age                          object \n",
      " 79  applicant_age_above_62                    object \n",
      " 80  co_applicant_age_above_62                 object \n",
      " 81  submission_of_application                 int64  \n",
      " 82  initially_payable_to_institution          int64  \n",
      " 83  aus_1                                     int64  \n",
      " 84  aus_2                                     float64\n",
      " 85  aus_3                                     float64\n",
      " 86  aus_4                                     float64\n",
      " 87  aus_5                                     float64\n",
      " 88  denial_reason_1                           int64  \n",
      " 89  denial_reason_2                           float64\n",
      " 90  denial_reason_3                           float64\n",
      " 91  denial_reason_4                           float64\n",
      " 92  tract_population                          int64  \n",
      " 93  tract_minority_population_percent         float64\n",
      " 94  ffiec_msa_md_median_family_income         int64  \n",
      " 95  tract_to_msa_income_percentage            float64\n",
      " 96  tract_owner_occupied_units                int64  \n",
      " 97  tract_one_to_four_family_homes            int64  \n",
      " 98  tract_median_age_of_housing_units         int64  \n",
      "dtypes: float64(32), int64(40), object(27)\n",
      "memory usage: 11.9+ GB\n"
     ]
    }
   ],
   "source": [
    "df.info()"
   ]
  },
  {
   "cell_type": "code",
   "execution_count": 4,
   "metadata": {},
   "outputs": [
    {
     "data": {
      "text/plain": [
       "16090252"
      ]
     },
     "execution_count": 4,
     "metadata": {},
     "output_type": "execute_result"
    }
   ],
   "source": [
    "# size of orignial dataset\n",
    "len(df)"
   ]
  },
  {
   "cell_type": "code",
   "execution_count": 5,
   "metadata": {},
   "outputs": [],
   "source": [
    "df_filter = df[df['state_code'].isin(['TX','NY', 'WA'])]"
   ]
  },
  {
   "cell_type": "code",
   "execution_count": 6,
   "metadata": {},
   "outputs": [
    {
     "data": {
      "text/plain": [
       "2348292"
      ]
     },
     "execution_count": 6,
     "metadata": {},
     "output_type": "execute_result"
    }
   ],
   "source": [
    "# size of new data set\n",
    "len(df_filter)"
   ]
  },
  {
   "cell_type": "code",
   "execution_count": 8,
   "metadata": {},
   "outputs": [],
   "source": [
    "df_filter.to_csv(r\"...\\01_2022_HMDA_Filter.csv\", index=False)"
   ]
  },
  {
   "cell_type": "code",
   "execution_count": 16,
   "metadata": {},
   "outputs": [
    {
     "name": "stderr",
     "output_type": "stream",
     "text": [
      "C:\\Users\\Forcessofnature\\AppData\\Local\\Temp\\ipykernel_106352\\1978745115.py:1: DtypeWarning: Columns (22,23,24,26,27,28,29,30,31,32,33,38,43,44,46,77,78,79,80) have mixed types. Specify dtype option on import or set low_memory=False.\n",
      "  df_db = pd.read_csv(\"https://www.dropbox.com/scl/fi/0yl5e0uwhh2mypl2htt7h/01_2022_HMDA_Filter.csv?rlkey=1z1qtm6h2h8rr1ubauk943la5&dl=1\")\n"
     ]
    }
   ],
   "source": [
    "# read data from dropbox\n",
    "df_db = pd.read.csv(\"https://www.dropbox.com/scl/fi/0yl5e0uwhh2mypl2htt7h/01_2022_HMDA_Filter.csv?rlkey=1z1qtm6h2h8rr1ubauk943la5&dl=1\")"
   ]
  }
 ],
 "metadata": {
  "kernelspec": {
   "display_name": "01_bi",
   "language": "python",
   "name": "python3"
  },
  "language_info": {
   "codemirror_mode": {
    "name": "ipython",
    "version": 3
   },
   "file_extension": ".py",
   "mimetype": "text/x-python",
   "name": "python",
   "nbconvert_exporter": "python",
   "pygments_lexer": "ipython3",
   "version": "3.10.8"
  }
 },
 "nbformat": 4,
 "nbformat_minor": 2
}
